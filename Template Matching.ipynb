{
 "cells": [
  {
   "cell_type": "code",
   "execution_count": null,
   "id": "3f26ec1e-3dc3-44e7-a43d-26d0e6655bf0",
   "metadata": {},
   "outputs": [],
   "source": [
    "import cv2\n",
    "import numpy as np\n",
    "i=cv2.imread(r\"R:\\getty_517194189_373099.webp\")\n",
    "i1=cv2.cvtColor(i,cv2.COLOR_BGR2GRAY)\n",
    "i2=cv2.imread(r\"R:\\getty_517194189_373099.jpg\")\n",
    "i3=cv2.cvtColor(i2,cv2.COLOR_BGR2GRAY)\n",
    "w,h=i1.shape[::-1]\n",
    "result=cv2.matchTemplate(i1,i3,cv2.TM_CCORR_NORMED)\n",
    "#print(result)\n",
    "th=.30\n",
    "l=np.where(result>th)\n",
    "for k in zip(*l[::-1]):\n",
    "    cv2.rectangle(i0,k,(k[0]+w,k[1]+h),(0,255,0),2)\n",
    "    cv2.resize(i0,(500,500))\n",
    "cv2.imshow(\"apu\",i0)\n",
    "cv2.waitKey(0)\n",
    "cv2.destroyAllWindows()"
   ]
  },
  {
   "cell_type": "code",
   "execution_count": 3,
   "id": "62b48a1a-b3d2-4d10-a334-6721d7f7bf25",
   "metadata": {},
   "outputs": [],
   "source": []
  },
  {
   "cell_type": "code",
   "execution_count": null,
   "id": "0966a830-1e43-4219-a52f-8b3d60edaa3e",
   "metadata": {},
   "outputs": [],
   "source": [
    "    "
   ]
  }
 ],
 "metadata": {
  "kernelspec": {
   "display_name": "Python 3 (ipykernel)",
   "language": "python",
   "name": "python3"
  },
  "language_info": {
   "codemirror_mode": {
    "name": "ipython",
    "version": 3
   },
   "file_extension": ".py",
   "mimetype": "text/x-python",
   "name": "python",
   "nbconvert_exporter": "python",
   "pygments_lexer": "ipython3",
   "version": "3.12.0"
  }
 },
 "nbformat": 4,
 "nbformat_minor": 5
}
