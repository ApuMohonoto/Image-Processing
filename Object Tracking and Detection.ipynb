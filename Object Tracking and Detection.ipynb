{
 "cells": [
  {
   "cell_type": "code",
   "execution_count": 1,
   "id": "bb216550-3f8f-45cd-921e-4f4949d7c9b5",
   "metadata": {},
   "outputs": [],
   "source": [
    "import cv2\n",
    "import numpy as np\n",
    "video=cv2.VideoCapture(r\"R:\\3015505-hd_1920_1080_24fps.mp4\")\n",
    "r,f=video.read()\n",
    "x,y,w,h=820,227,357,952\n",
    "t=(x,y,w,h)\n",
    "roi1=f[y:y+h,x:x+w]\n",
    "roi=cv2.resize(roi1,(500,500))\n",
    "hsv=cv2.cvtColor(roi,cv2.COLOR_BGR2HSV)\n",
    "mask=cv2.inRange(hsv,np.array((0.,60.,32.)),np.array((180.,255.,255.)))\n",
    "hist=cv2.calcHist([hsv],[0],mask,[180],[0,180])#source,channel,mask,range\n",
    "cv2.normalize(hsv,hsv,0,255,cv2.NORM_MINMAX)#to reduce blur\n",
    "cv2.imshow(\"apu1\",roi)\n",
    "tr=(cv2.TERM_CRITERIA_EPS|cv2.TERM_CRITERIA_COUNT,10,1)#iteration,ekbare koto gulo iteration\n",
    "while video.isOpened():\n",
    "    r,f=video.read()\n",
    "  \n",
    "    if r==True:\n",
    "        hsv_f=cv2.cvtColor(f,cv2.COLOR_BGR2HSV)\n",
    "        d=cv2.calcBackProject([hsv_f],[0],hist,[0,180],1)\n",
    "        r,tp=cv2.CamShift(d,t,tr)#meanShift/CamShift\n",
    "        x,y,w,h=tp\n",
    "        rec=cv2.rectangle(f,(x,y),(x+w,y+h),(255,0,0),4)\n",
    "        cv2.imshow(\"apu3\",rec)\n",
    "      \n",
    "        cv2.imshow(\"apu\",f)\n",
    "        if cv2.waitKey(25) & 0xff==ord(\"f\"):\n",
    "            break\n",
    "    else:\n",
    "        break\n",
    "video.release()\n",
    "cv2.destroyAllWindows()"
   ]
  },
  {
   "cell_type": "code",
   "execution_count": 10,
   "id": "b94686fe-c3ab-4b89-880c-0aff8b27bbaa",
   "metadata": {},
   "outputs": [
    {
     "data": {
      "text/plain": [
       "(1138, 979)"
      ]
     },
     "execution_count": 10,
     "metadata": {},
     "output_type": "execute_result"
    }
   ],
   "source": []
  },
  {
   "cell_type": "code",
   "execution_count": null,
   "id": "fcb117a0-4b63-4540-901e-dd8ca6c24927",
   "metadata": {},
   "outputs": [],
   "source": []
  }
 ],
 "metadata": {
  "kernelspec": {
   "display_name": "Python 3 (ipykernel)",
   "language": "python",
   "name": "python3"
  },
  "language_info": {
   "codemirror_mode": {
    "name": "ipython",
    "version": 3
   },
   "file_extension": ".py",
   "mimetype": "text/x-python",
   "name": "python",
   "nbconvert_exporter": "python",
   "pygments_lexer": "ipython3",
   "version": "3.12.0"
  }
 },
 "nbformat": 4,
 "nbformat_minor": 5
}
