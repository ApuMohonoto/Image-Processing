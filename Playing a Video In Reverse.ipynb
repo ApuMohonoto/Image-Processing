{
 "cells": [
  {
   "cell_type": "code",
   "execution_count": 19,
   "id": "4f914201-ea15-4317-b4a2-effe3a3d1a57",
   "metadata": {},
   "outputs": [],
   "source": [
    "import cv2\n",
    "cap=cv2.VideoCapture(r\"R:\\3015505-hd_1920_1080_24fps.mp4\")\n",
    "c=1\n",
    "l=[]\n",
    "while cap.isOpened():\n",
    "    r,f=cap.read()\n",
    "    if r==True:\n",
    "        f=cv2.resize(f,(500,500))\n",
    "        file=r\"R:\\\\apu\\\\\"+ str(c)+\".jpg\"\n",
    "        l.append(file)\n",
    "        cv2.imwrite(file,f)\n",
    "        c=c+1\n",
    "        cv2.imshow(\"apu\",f)\n",
    "        if cv2.waitKey(25) & 0xff==ord(\"a\"):\n",
    "            break\n",
    "            \n",
    "    else:\n",
    "        break\n",
    "l.reverse()        \n",
    "for i in l:\n",
    "    new=cv2.imread(i)\n",
    "    cv2.imshow(\"apu1\",new)\n",
    "    if cv2.waitKey(25) & 0xff==ord(\"a\"):\n",
    "        break\n",
    "cap.release()\n",
    "cv2.destroyAllWindows()"
   ]
  },
  {
   "cell_type": "code",
   "execution_count": null,
   "id": "d925cdd3-0576-4070-9891-77bd5a5fd522",
   "metadata": {},
   "outputs": [],
   "source": []
  },
  {
   "cell_type": "code",
   "execution_count": null,
   "id": "aa2cfb8b-bcb8-4197-a7f4-a143bc4bf167",
   "metadata": {},
   "outputs": [],
   "source": []
  },
  {
   "cell_type": "code",
   "execution_count": null,
   "id": "e17f176d-68c1-4d63-85f8-4e87954d2ddd",
   "metadata": {},
   "outputs": [],
   "source": []
  }
 ],
 "metadata": {
  "kernelspec": {
   "display_name": "Python 3 (ipykernel)",
   "language": "python",
   "name": "python3"
  },
  "language_info": {
   "codemirror_mode": {
    "name": "ipython",
    "version": 3
   },
   "file_extension": ".py",
   "mimetype": "text/x-python",
   "name": "python",
   "nbconvert_exporter": "python",
   "pygments_lexer": "ipython3",
   "version": "3.12.0"
  }
 },
 "nbformat": 4,
 "nbformat_minor": 5
}
