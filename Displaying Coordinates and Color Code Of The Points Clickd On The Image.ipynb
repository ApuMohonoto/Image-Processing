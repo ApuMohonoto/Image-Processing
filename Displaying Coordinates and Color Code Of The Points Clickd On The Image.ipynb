{
 "cells": [
  {
   "cell_type": "code",
   "execution_count": 2,
   "id": "29eeb89d-1cc1-4706-a265-a49ba48f1d98",
   "metadata": {},
   "outputs": [],
   "source": [
    "import cv2\n",
    "def click_b(event,x,y,f,p):    # event,coordinate,flag,parameter\n",
    "    if event==cv2.EVENT_LBUTTONDOWN:\n",
    "        s=f\"{x},{y}\"\n",
    "        cv2.putText(i,s,(x,y),cv2.FONT_HERSHEY_PLAIN,2,(0,0,0))\n",
    "        cv2.imshow(\"apu\",i)\n",
    "    elif event==cv2.EVENT_RBUTTONDOWN:\n",
    "        b=i[y,x,0]\n",
    "        g=i[y,x,1]\n",
    "        r=i[y,x,2]\n",
    "        s=f\"{b},{g},{r}\"\n",
    "        cv2.putText(i,s,(x,y),cv2.FONT_HERSHEY_PLAIN,2,(0,0,0))\n",
    "        cv2.imshow(\"apu\",i)\n",
    "i=cv2.imread(r\"R:\\rohan.JPG\")\n",
    "i=cv2.resize(i,(500,500))\n",
    "cv2.imshow(\"apu\",i)\n",
    "cv2.setMouseCallback(\"apu\",click_b)# window name,function\n",
    "cv2.waitKey(0)\n",
    "cv2.destroyAllWindows()"
   ]
  },
  {
   "cell_type": "code",
   "execution_count": null,
   "id": "5239cdd5-bafd-4fd3-8992-faa43bb42ad6",
   "metadata": {},
   "outputs": [],
   "source": []
  }
 ],
 "metadata": {
  "kernelspec": {
   "display_name": "Python 3 (ipykernel)",
   "language": "python",
   "name": "python3"
  },
  "language_info": {
   "codemirror_mode": {
    "name": "ipython",
    "version": 3
   },
   "file_extension": ".py",
   "mimetype": "text/x-python",
   "name": "python",
   "nbconvert_exporter": "python",
   "pygments_lexer": "ipython3",
   "version": "3.12.0"
  }
 },
 "nbformat": 4,
 "nbformat_minor": 5
}
