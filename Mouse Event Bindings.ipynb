{
 "cells": [
  {
   "cell_type": "code",
   "execution_count": 6,
   "id": "a72719d3-4e20-4ebc-8d8e-ebc4ec1e9a10",
   "metadata": {},
   "outputs": [],
   "source": [
    "import cv2\n",
    "import numpy as np\n",
    "def rohan(event,x,y,f,p):   #event,ordinates,flag,parameter\n",
    "    if event==cv2.EVENT_LBUTTONDOWN:\n",
    "        cv2.circle(img,(x,y),3,(0,0,255),3)\n",
    "    elif event==cv2.EVENT_RBUTTONDOWN:\n",
    "        cv2.rectangle(img,(x,y),(x+10,y+10),(255,0,0),4)\n",
    "         \n",
    "cv2.namedWindow(\"apu\")\n",
    "img=np.ones((500,500,3),np.uint8)*255\n",
    "mouse=cv2.setMouseCallback(\"apu\",rohan)#window name,fuction\n",
    "while True:\n",
    "    cv2.imshow(\"apu\",img)\n",
    "    if cv2.waitKey(25) & 0xff==ord(\"g\"):\n",
    "        break\n",
    "cv2.imshow(\"apu\",img)\n",
    "cv2.waitKey(0)\n",
    "cv2.destroyAllWindows()    "
   ]
  },
  {
   "cell_type": "code",
   "execution_count": null,
   "id": "fdf273c2-e373-47cb-9783-5e6ce79be0dc",
   "metadata": {},
   "outputs": [],
   "source": []
  }
 ],
 "metadata": {
  "kernelspec": {
   "display_name": "Python 3 (ipykernel)",
   "language": "python",
   "name": "python3"
  },
  "language_info": {
   "codemirror_mode": {
    "name": "ipython",
    "version": 3
   },
   "file_extension": ".py",
   "mimetype": "text/x-python",
   "name": "python",
   "nbconvert_exporter": "python",
   "pygments_lexer": "ipython3",
   "version": "3.12.0"
  }
 },
 "nbformat": 4,
 "nbformat_minor": 5
}
