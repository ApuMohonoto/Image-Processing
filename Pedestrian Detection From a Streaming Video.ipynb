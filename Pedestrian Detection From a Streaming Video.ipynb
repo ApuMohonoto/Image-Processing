{
 "cells": [
  {
   "cell_type": "code",
   "execution_count": 2,
   "id": "8c7ebeb0-1a10-443e-a9b8-bcc87ee07560",
   "metadata": {},
   "outputs": [],
   "source": [
    "import cv2\n",
    "cap=cv2.VideoCapture(r\"R:\\Couple Jogging Outdoors HD Stock Video - Download Video Clip Now - Running Jogging Men - iStock.mp4\")\n",
    "while True:\n",
    "    r,f=cap.read()\n",
    "    if r==True:\n",
    "        f=cv2.resize(f,(500,500))\n",
    "        g=cv2.cvtColor(f,cv2.COLOR_BGR2GRAY)\n",
    "        hm=cv2.CascadeClassifier(r\"R:\\Harr Cascade\\haarcascade_fullbody.xml\")\n",
    "        d=hm.detectMultiScale(g,1.5,4)\n",
    "        for (x,y,w,h) in d:\n",
    "            cv2.rectangle(f,(x,y),(x+w,y+h),(255,0,0),3)\n",
    "        cv2.imshow(\"apu\",f)\n",
    "        if cv2.waitKey(25) & 0xff==ord(\"a\"):\n",
    "            break\n",
    "    else:\n",
    "        break\n",
    "        \n",
    "cap.release()   \n",
    "cv2.destroyAllWindows()"
   ]
  },
  {
   "cell_type": "code",
   "execution_count": null,
   "id": "5ad31f5b-48d5-4349-b1e4-0e17f5978190",
   "metadata": {},
   "outputs": [],
   "source": []
  }
 ],
 "metadata": {
  "kernelspec": {
   "display_name": "Python 3 (ipykernel)",
   "language": "python",
   "name": "python3"
  },
  "language_info": {
   "codemirror_mode": {
    "name": "ipython",
    "version": 3
   },
   "file_extension": ".py",
   "mimetype": "text/x-python",
   "name": "python",
   "nbconvert_exporter": "python",
   "pygments_lexer": "ipython3",
   "version": "3.12.0"
  }
 },
 "nbformat": 4,
 "nbformat_minor": 5
}
