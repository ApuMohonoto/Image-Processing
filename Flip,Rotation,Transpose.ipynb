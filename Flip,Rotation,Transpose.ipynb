{
 "cells": [
  {
   "cell_type": "code",
   "execution_count": 10,
   "id": "0de0b601-3259-4540-aab2-b742bb446976",
   "metadata": {},
   "outputs": [],
   "source": [
    "import cv2\n",
    "import numpy as np\n",
    "img=cv2.imread(r\"R:\\rohan.JPG\")\n",
    "i=cv2.resize(img,(600,600))\n",
    "i1=cv2.flip(i,1)#flip y axis\n",
    "i2=cv2.flip(i,0)#flip x axis\n",
    "i3=cv2.flip(i,-1)#flip x & y axis\n",
    "i4=cv2.rotate(img,cv2.ROTATE_90_COUNTERCLOCKWISE)\n",
    "i5=cv2.transpose(i)\n",
    "h=np.hstack((i1,i2,i3))\n",
    "cv2.imshow(\"apu\",h)\n",
    "cv2.waitKey(0)\n",
    "cv2.destroyAllWindows()"
   ]
  },
  {
   "cell_type": "code",
   "execution_count": null,
   "id": "a8a179ae-9374-4262-b349-7d11e53c5e92",
   "metadata": {},
   "outputs": [],
   "source": []
  },
  {
   "cell_type": "code",
   "execution_count": null,
   "id": "d36ad616-5e10-4445-b784-69b6666dd8ff",
   "metadata": {},
   "outputs": [],
   "source": []
  }
 ],
 "metadata": {
  "kernelspec": {
   "display_name": "Python 3 (ipykernel)",
   "language": "python",
   "name": "python3"
  },
  "language_info": {
   "codemirror_mode": {
    "name": "ipython",
    "version": 3
   },
   "file_extension": ".py",
   "mimetype": "text/x-python",
   "name": "python",
   "nbconvert_exporter": "python",
   "pygments_lexer": "ipython3",
   "version": "3.12.0"
  }
 },
 "nbformat": 4,
 "nbformat_minor": 5
}
