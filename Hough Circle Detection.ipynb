{
 "cells": [
  {
   "cell_type": "code",
   "execution_count": 17,
   "id": "d2e9f392-46ac-4ac9-93b2-4d3f201efa5a",
   "metadata": {},
   "outputs": [],
   "source": [
    "import cv2\n",
    "import numpy as np\n",
    "img=cv2.imread(r\"R:\\various-sports-balls-graphics-vector.jpg\")\n",
    "i=cv2.resize(img,(400,400))\n",
    "img1=cv2.cvtColor(i,cv2.COLOR_BGR2GRAY)\n",
    "img2=cv2.medianBlur(img1,7)\n",
    "c=cv2.HoughCircles(img2,cv2.HOUGH_GRADIENT,1,20,param1=90,param2=70,minRadius=0,maxRadius=0)#displacement,mindisplacement,parameter\n",
    "data=np.uint16(np.around(c))\n",
    "for (x,y,r) in data[0,:]:\n",
    "    cv2.circle(i,(x,y),r,(255,0,0),4)\n",
    "cv2.imshow(\"Apu\",i)\n",
    "cv2.waitKey(0)\n",
    "cv2.destroyAllWindows()\n"
   ]
  },
  {
   "cell_type": "code",
   "execution_count": null,
   "id": "01acc61b-fa13-4bde-9750-f4f5a03c81f7",
   "metadata": {},
   "outputs": [],
   "source": []
  },
  {
   "cell_type": "code",
   "execution_count": null,
   "id": "bf756370-5211-4cf9-83e7-466e20261755",
   "metadata": {},
   "outputs": [],
   "source": []
  },
  {
   "cell_type": "code",
   "execution_count": null,
   "id": "fa171086-808c-4839-b14f-522d9909aa98",
   "metadata": {},
   "outputs": [],
   "source": []
  }
 ],
 "metadata": {
  "kernelspec": {
   "display_name": "Python 3 (ipykernel)",
   "language": "python",
   "name": "python3"
  },
  "language_info": {
   "codemirror_mode": {
    "name": "ipython",
    "version": 3
   },
   "file_extension": ".py",
   "mimetype": "text/x-python",
   "name": "python",
   "nbconvert_exporter": "python",
   "pygments_lexer": "ipython3",
   "version": "3.12.0"
  }
 },
 "nbformat": 4,
 "nbformat_minor": 5
}
