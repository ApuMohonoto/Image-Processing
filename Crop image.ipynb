{
 "cells": [
  {
   "cell_type": "code",
   "execution_count": null,
   "id": "8390ba72-1dd2-45ae-8467-331823dfe7cf",
   "metadata": {},
   "outputs": [],
   "source": [
    "import cv2\n",
    "\n",
    "# Read the image\n",
    "img = cv2.imread(r\"R:\\rohan.JPG\")\n",
    "\n",
    "# Check if the image was loaded successfully\n",
    "if img is None:\n",
    "    print(\"Error: Image not found or path is incorrect.\")\n",
    "else:\n",
    "    # Resize the image to 500x600 (width x height)\n",
    "    img1 = cv2.resize(img, (500, 600))\n",
    "\n",
    "    # Crop a region: img[y1:y2, x1:x2]\n",
    "    # Example: cropping from y=20 to y=100, x=200 to x=290\n",
    "    im = img1[155:185, 210:260]\n",
    "\n",
    "    # Display the cropped image\n",
    "    cv2.imshow(\"apu1\", im)\n",
    "     \n",
    "    cv2.waitKey(0)\n",
    "    cv2.destroyAllWindows()\n"
   ]
  },
  {
   "cell_type": "code",
   "execution_count": null,
   "id": "f47f3959-007d-488b-812d-db0aa1ae276c",
   "metadata": {},
   "outputs": [],
   "source": []
  },
  {
   "cell_type": "code",
   "execution_count": null,
   "id": "906657a7-8768-4e24-bf92-24ea9fdcfe8f",
   "metadata": {},
   "outputs": [],
   "source": []
  },
  {
   "cell_type": "code",
   "execution_count": null,
   "id": "b0559450-e639-458b-9637-9fd4fc7a6588",
   "metadata": {},
   "outputs": [],
   "source": []
  },
  {
   "cell_type": "code",
   "execution_count": null,
   "id": "2c36fb7a-c589-4713-bed1-104ba1a2dbda",
   "metadata": {},
   "outputs": [],
   "source": []
  }
 ],
 "metadata": {
  "kernelspec": {
   "display_name": "Python 3 (ipykernel)",
   "language": "python",
   "name": "python3"
  },
  "language_info": {
   "codemirror_mode": {
    "name": "ipython",
    "version": 3
   },
   "file_extension": ".py",
   "mimetype": "text/x-python",
   "name": "python",
   "nbconvert_exporter": "python",
   "pygments_lexer": "ipython3",
   "version": "3.12.0"
  }
 },
 "nbformat": 4,
 "nbformat_minor": 5
}
