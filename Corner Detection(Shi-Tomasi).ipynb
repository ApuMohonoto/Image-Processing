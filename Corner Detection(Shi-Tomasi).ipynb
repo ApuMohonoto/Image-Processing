{
 "cells": [
  {
   "cell_type": "code",
   "execution_count": 11,
   "id": "e77ce477-29cb-46b4-b931-9e0f5a8e49ae",
   "metadata": {},
   "outputs": [],
   "source": [
    "import cv2\n",
    "import numpy as np\n",
    "i=cv2.imread(r\"R:\\stock.jpg\")\n",
    "i=cv2.resize(i,(500,500))\n",
    "g=cv2.cvtColor(i,cv2.COLOR_BGR2GRAY)\n",
    "cr=cv2.goodFeaturesToTrack(g,70,.01,20)#img,maxcorners,qualitylevel,mindistance\n",
    "cr=np.int64(cr)\n",
    "for m in cr:\n",
    "    x,y=m.ravel()# using the ravel we can make the one direction matrix\n",
    "    cv2.circle(i,(x,y),3,(0,0,255,5))\n",
    "               \n",
    "cv2.imshow(\"apu\",i)\n",
    "cv2.waitKey(0)\n",
    "cv2.destroyAllWindows()"
   ]
  },
  {
   "cell_type": "code",
   "execution_count": null,
   "id": "87693e01-6980-419b-a52a-70261a1d1c56",
   "metadata": {},
   "outputs": [],
   "source": []
  }
 ],
 "metadata": {
  "kernelspec": {
   "display_name": "Python 3 (ipykernel)",
   "language": "python",
   "name": "python3"
  },
  "language_info": {
   "codemirror_mode": {
    "name": "ipython",
    "version": 3
   },
   "file_extension": ".py",
   "mimetype": "text/x-python",
   "name": "python",
   "nbconvert_exporter": "python",
   "pygments_lexer": "ipython3",
   "version": "3.12.0"
  }
 },
 "nbformat": 4,
 "nbformat_minor": 5
}
