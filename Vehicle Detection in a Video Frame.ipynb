{
 "cells": [
  {
   "cell_type": "code",
   "execution_count": null,
   "id": "2d9626df-e211-4013-8414-3f3cef020b75",
   "metadata": {},
   "outputs": [],
   "source": [
    "import cv2\n",
    "cap=cv2.VideoCapture(r\"R:\\2165-155327596_small (1).mp4\")\n",
    "\n",
    "while True:\n",
    "    r,f=cap.read()\n",
    "    if r==True:\n",
    "        f=cv2.resize(f,(500,500))\n",
    "        g=cv2.cvtColor(f,cv2.COLOR_BGR2GRAY)\n",
    "        car=cv2.CascadeClassifier(r\"R:\\Harr Cascade\\cars.xml\")\n",
    "        cars=car.detectMultiScale(g,1.4,2)\n",
    "        for (x,y,w,h) in cars:\n",
    "            cv2.rectangle(f,(x,y),(x+w,y+h),(0,0,255),2)\n",
    "            \n",
    "       \n",
    "    \n",
    "        cv2.imshow(\"apu\",f)\n",
    "        if cv2.waitKey(25) & 0xff==ord(\"s\"):\n",
    "            break\n",
    "    else:\n",
    "        break\n",
    "cap.release()\n",
    "cv2.destroyAllWindows()\n",
    "        \n",
    "                     "
   ]
  },
  {
   "cell_type": "code",
   "execution_count": 9,
   "id": "6b2418c8-48d0-4906-b163-defa5ca6e0d4",
   "metadata": {},
   "outputs": [],
   "source": [
    " import cv2\n",
    "i=cv2.imread(r\"R:\\Screenshot 2025-06-21 151823.png\")\n",
    "\n",
    "i=cv2.resize(f,(500,500))\n",
    "g=cv2.cvtColor(f,cv2.COLOR_BGR2GRAY)\n",
    "car=cv2.CascadeClassifier(r\"R:\\Harr Cascade\\cars.xml\")\n",
    "cars=car.detectMultiScale(g,1.4,2)\n",
    "for (x,y,w,h) in cars:\n",
    "    cv2.rectangle(f,(x,y),(x+w,y+h),(0,0,255),2)\n",
    "            \n",
    "       \n",
    "    \n",
    "cv2.imshow(\"apu\",i)\n",
    "cv2.waitKey(0)\n",
    "   \n",
    "cap.release()\n",
    "cv2.destroyAllWindows()\n",
    "        \n",
    "                     "
   ]
  },
  {
   "cell_type": "code",
   "execution_count": null,
   "id": "0ece04a7-59bf-4bae-8cc0-bc851ed0b55f",
   "metadata": {},
   "outputs": [],
   "source": []
  },
  {
   "cell_type": "code",
   "execution_count": null,
   "id": "321de481-877f-4d9f-ae41-708cb962458d",
   "metadata": {},
   "outputs": [],
   "source": []
  }
 ],
 "metadata": {
  "kernelspec": {
   "display_name": "Python 3 (ipykernel)",
   "language": "python",
   "name": "python3"
  },
  "language_info": {
   "codemirror_mode": {
    "name": "ipython",
    "version": 3
   },
   "file_extension": ".py",
   "mimetype": "text/x-python",
   "name": "python",
   "nbconvert_exporter": "python",
   "pygments_lexer": "ipython3",
   "version": "3.12.0"
  }
 },
 "nbformat": 4,
 "nbformat_minor": 5
}
