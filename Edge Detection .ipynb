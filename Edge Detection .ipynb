{
 "cells": [
  {
   "cell_type": "code",
   "execution_count": 5,
   "id": "77eec828-1365-419f-b23f-288c3eb3733a",
   "metadata": {},
   "outputs": [],
   "source": [
    "import cv2\n",
    "img=cv2.imread(r\"R:\\Mobile's Photo\\DCIM\\Camera\\IMG_20240404_111921.jpg\")\n",
    "img1=cv2.resize(img,(400,600))\n",
    "im=cv2.Canny(img1,50,50,apertureSize=5,L2gradient=True)# img,thresold1,thresold2,edge,apertureSize,L2gradient\n",
    "i=cv2.imshow(\"apu\",im)\n",
    "cv2.waitKey(0)\n",
    "cv2.destroyAllWindows()\n"
   ]
  },
  {
   "cell_type": "code",
   "execution_count": null,
   "id": "62f03baf-74f3-427a-9803-149f205efdd8",
   "metadata": {},
   "outputs": [],
   "source": []
  }
 ],
 "metadata": {
  "kernelspec": {
   "display_name": "Python 3 (ipykernel)",
   "language": "python",
   "name": "python3"
  },
  "language_info": {
   "codemirror_mode": {
    "name": "ipython",
    "version": 3
   },
   "file_extension": ".py",
   "mimetype": "text/x-python",
   "name": "python",
   "nbconvert_exporter": "python",
   "pygments_lexer": "ipython3",
   "version": "3.12.0"
  }
 },
 "nbformat": 4,
 "nbformat_minor": 5
}
