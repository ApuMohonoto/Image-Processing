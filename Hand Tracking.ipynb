{
 "cells": [
  {
   "cell_type": "code",
   "execution_count": 6,
   "id": "284ed25e-7bfa-41fb-b5b7-ecc8d7754ede",
   "metadata": {},
   "outputs": [],
   "source": [
    "import cv2\n",
    "import mediapipe as mp\n",
    "\n",
    "draw = mp.solutions.drawing_utils\n",
    "hand = mp.solutions.hands\n",
    "\n",
    "p = hand.Hands(model_complexity=0, min_detection_confidence=0.5, min_tracking_confidence=0.5)\n",
    "\n",
    "cap = cv2.VideoCapture(0)\n",
    "\n",
    "while cap.isOpened():\n",
    "    r, f = cap.read()\n",
    "    f = cv2.flip(f, 1)\n",
    "    if r == True:\n",
    "        f_rgb = cv2.cvtColor(f, cv2.COLOR_BGR2RGB)\n",
    "        result = p.process(f_rgb)\n",
    "        if result.multi_hand_landmarks:\n",
    "            for landmarks in result.multi_hand_landmarks:\n",
    "                draw.draw_landmarks(f, landmarks, hand.HAND_CONNECTIONS)\n",
    "        cv2.imshow(\"apu\", f)\n",
    "        if cv2.waitKey(25) & 0xFF == ord(\"a\"):\n",
    "            break\n",
    "    else:\n",
    "        break\n",
    "\n",
    "cap.release()\n",
    "cv2.destroyAllWindows()\n"
   ]
  },
  {
   "cell_type": "code",
   "execution_count": null,
   "id": "f86329af-da2d-4444-9440-267f31e0a1f3",
   "metadata": {},
   "outputs": [],
   "source": []
  },
  {
   "cell_type": "code",
   "execution_count": null,
   "id": "d39b7598-2ad6-4ef1-be49-af9264d8a627",
   "metadata": {},
   "outputs": [],
   "source": []
  },
  {
   "cell_type": "code",
   "execution_count": null,
   "id": "d5cbb1dc-9862-4d1b-819c-1b1edc493a8d",
   "metadata": {},
   "outputs": [],
   "source": []
  }
 ],
 "metadata": {
  "kernelspec": {
   "display_name": "Python 3 (ipykernel)",
   "language": "python",
   "name": "python3"
  },
  "language_info": {
   "codemirror_mode": {
    "name": "ipython",
    "version": 3
   },
   "file_extension": ".py",
   "mimetype": "text/x-python",
   "name": "python",
   "nbconvert_exporter": "python",
   "pygments_lexer": "ipython3",
   "version": "3.12.0"
  }
 },
 "nbformat": 4,
 "nbformat_minor": 5
}
