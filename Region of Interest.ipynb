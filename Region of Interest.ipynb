{
 "cells": [
  {
   "cell_type": "code",
   "execution_count": 59,
   "id": "00b19187-47e5-4e89-9ece-e2c488b63e3a",
   "metadata": {},
   "outputs": [],
   "source": [
    " import cv2\n",
    "img=cv2.imread(r\"R:\\Ruponty\\IMG_20230811_230654_290.jpg\")\n",
    "\n",
    "img1=cv2.resize(img,(500,600))\n",
    "cv2.imwrite(r\"R:\\Apu.jpg\",img1)\n",
    "crop=img1[313:392,206:273]\n",
    "img1[313:392,273:340]=crop\n",
    "img1[313:392,340:407]=crop\n",
    "img1[313:392,407:474]=crop\n",
    "img1[313:392,139:206]=crop\n",
    "img1[313:392,72:139]=crop\n",
    "img1[313:392,5:72]=crop\n",
    "\n",
    "\n",
    "cv2.imshow(\"Apu\",img1)\n",
    "cv2.imwrite(r\"R:\\Apu1.jpg\",img1)\n",
    "cv2.waitKey(0)\n",
    "cv2.destroyAllWindows()\n"
   ]
  },
  {
   "cell_type": "code",
   "execution_count": null,
   "id": "50435dd8-c862-4c18-8881-44a815c1924f",
   "metadata": {},
   "outputs": [],
   "source": []
  },
  {
   "cell_type": "code",
   "execution_count": null,
   "id": "670a8a72-62c1-4888-a618-c8451b0dec98",
   "metadata": {},
   "outputs": [],
   "source": []
  },
  {
   "cell_type": "code",
   "execution_count": null,
   "id": "c5c39773-3a8b-4862-959a-d5f47c33870e",
   "metadata": {},
   "outputs": [],
   "source": []
  }
 ],
 "metadata": {
  "kernelspec": {
   "display_name": "Python 3 (ipykernel)",
   "language": "python",
   "name": "python3"
  },
  "language_info": {
   "codemirror_mode": {
    "name": "ipython",
    "version": 3
   },
   "file_extension": ".py",
   "mimetype": "text/x-python",
   "name": "python",
   "nbconvert_exporter": "python",
   "pygments_lexer": "ipython3",
   "version": "3.12.0"
  }
 },
 "nbformat": 4,
 "nbformat_minor": 5
}
