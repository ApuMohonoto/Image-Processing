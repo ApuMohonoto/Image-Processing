{
 "cells": [
  {
   "cell_type": "code",
   "execution_count": 5,
   "id": "7df569f4-ce7f-4ce8-8d6e-eed81c006cf4",
   "metadata": {},
   "outputs": [
    {
     "name": "stdout",
     "output_type": "stream",
     "text": [
      "[[100  46  95  95]\n",
      " [201  73  72  72]\n",
      " [ 55 228 123 123]\n",
      " [ 30 142  70  70]\n",
      " [ 12 347  97  97]\n",
      " [395 147  87  87]\n",
      " [302 161 110 110]\n",
      " [243 159  84  84]\n",
      " [149 199 130 130]]\n"
     ]
    }
   ],
   "source": [
    "import cv2\n",
    "i=cv2.imread(r\"R:\\getty_517194189_373099.webp\")\n",
    "i=cv2.resize(i,(500,500))\n",
    "g=cv2.cvtColor(i,cv2.COLOR_BGR2GRAY)\n",
    "f=cv2.CascadeClassifier(r\"R:\\Harr Cascade\\haarcascade_frontalface_default.xml\")\n",
    "d=f.detectMultiScale(g,1.2,2)#source,parameter-that change the square,distance\n",
    "print(d)\n",
    "for (x,y,w,h) in d:\n",
    "    cv2.rectangle(i,(x,y),(x+w,y+h),(0,0,255),3)\n",
    "cv2.imshow(\"apu\",i)\n",
    "cv2.waitKey(0)\n",
    "cv2.destroyAllWindows()"
   ]
  },
  {
   "cell_type": "code",
   "execution_count": null,
   "id": "3918abfd-9752-454b-815e-d75b7325aedf",
   "metadata": {},
   "outputs": [],
   "source": []
  }
 ],
 "metadata": {
  "kernelspec": {
   "display_name": "Python 3 (ipykernel)",
   "language": "python",
   "name": "python3"
  },
  "language_info": {
   "codemirror_mode": {
    "name": "ipython",
    "version": 3
   },
   "file_extension": ".py",
   "mimetype": "text/x-python",
   "name": "python",
   "nbconvert_exporter": "python",
   "pygments_lexer": "ipython3",
   "version": "3.12.0"
  }
 },
 "nbformat": 4,
 "nbformat_minor": 5
}
