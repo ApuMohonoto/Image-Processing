{
 "cells": [
  {
   "cell_type": "code",
   "execution_count": 13,
   "id": "41807774-bd43-4317-a3cc-b88431e598fa",
   "metadata": {},
   "outputs": [],
   "source": [
    "import cv2\n",
    "img=cv2.imread(\"R:\\Mobile's Photo\\DCIM\\Camera\\IMG_20240404_111921.jpg\")\n",
    "img1=cv2.resize(img,(400,600))\n",
    "im=cv2.circle(img=img1,center=(190,165),radius=50,color=(0,255,0),thickness=4,lineType=16)#Try with thickness -1\n",
    "i=cv2.imshow(\"apu\",im)\n",
    "cv2.waitKey(0)\n",
    "cv2.destroyAllWindows()\n"
   ]
  },
  {
   "cell_type": "code",
   "execution_count": null,
   "id": "3e16baa2-277d-4ffc-8eb1-0da59675d507",
   "metadata": {},
   "outputs": [],
   "source": [
    "import cv2\n",
    "img=cv2.imread(r\"R:\\rohan.JPG\")\n",
    "img1=cv2.resize(img,(400,600))\n",
    "im=cv2.ellipse(img=img1,center=(190,165),axes=(30,50),angle=-5,startAngle=0,endAngle=360,color=(0,255,0),thickness=-1,lineType=16)#try with thickness with -1\n",
    "i=cv2.imshow(\"apu\",im)\n",
    "cv2.waitKey(0)\n",
    "cv2.destroyAllWindows()\n"
   ]
  },
  {
   "cell_type": "code",
   "execution_count": null,
   "id": "37e135c0-7aa3-4ac4-bee3-20beece3309f",
   "metadata": {},
   "outputs": [],
   "source": []
  }
 ],
 "metadata": {
  "kernelspec": {
   "display_name": "Python 3 (ipykernel)",
   "language": "python",
   "name": "python3"
  },
  "language_info": {
   "codemirror_mode": {
    "name": "ipython",
    "version": 3
   },
   "file_extension": ".py",
   "mimetype": "text/x-python",
   "name": "python",
   "nbconvert_exporter": "python",
   "pygments_lexer": "ipython3",
   "version": "3.12.0"
  }
 },
 "nbformat": 4,
 "nbformat_minor": 5
}
