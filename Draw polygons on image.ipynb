{
 "cells": [
  {
   "cell_type": "code",
   "execution_count": 24,
   "id": "d17ef3c0-5b06-4249-96db-3b7db9ece123",
   "metadata": {},
   "outputs": [],
   "source": [
    "import cv2\n",
    "import numpy as np\n",
    "img=cv2.imread(r\"R:\\rohan.JPG\")\n",
    "img1=cv2.resize(img,(400,600))\n",
    "im=cv2.polylines(img=img1,pts=[np.array([[165,140],[185,120],[190,100],[200,200],[190,180]])],isClosed=True,color=(0,255,0),thickness=4,lineType=16)\n",
    "i=cv2.imshow(\"apu\",im)\n",
    "cv2.waitKey(0)\n",
    "cv2.destroyAllWindows()\n"
   ]
  },
  {
   "cell_type": "code",
   "execution_count": null,
   "id": "6969b44a-e384-4f1e-8fba-5733bc980b43",
   "metadata": {},
   "outputs": [],
   "source": []
  }
 ],
 "metadata": {
  "kernelspec": {
   "display_name": "Python 3 (ipykernel)",
   "language": "python",
   "name": "python3"
  },
  "language_info": {
   "codemirror_mode": {
    "name": "ipython",
    "version": 3
   },
   "file_extension": ".py",
   "mimetype": "text/x-python",
   "name": "python",
   "nbconvert_exporter": "python",
   "pygments_lexer": "ipython3",
   "version": "3.12.0"
  }
 },
 "nbformat": 4,
 "nbformat_minor": 5
}
