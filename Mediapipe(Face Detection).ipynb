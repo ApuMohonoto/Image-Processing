{
 "cells": [
  {
   "cell_type": "code",
   "execution_count": 2,
   "id": "aa64d253-f22f-444f-b636-d7f7703afceb",
   "metadata": {},
   "outputs": [],
   "source": [
    "import cv2\n",
    "import mediapipe as mp\n",
    "face=mp.solutions.face_detection\n",
    "draw=mp.solutions.drawing_utils\n",
    "face_detection=face.FaceDetection(min_detection_confidence=1,model_selection=0)\n",
    "\n",
    "cap=cv2.VideoCapture(0)\n",
    "while cap.isOpened():\n",
    "    r,f=cap.read()\n",
    "    f=cv2.flip(f,1)\n",
    "    f=cv2.cvtColor(f,cv2.COLOR_BGR2RGB)\n",
    "    result=face_detection.process(f)\n",
    "    f=cv2.cvtColor(f,cv2.COLOR_RGB2BGR)\n",
    "    \n",
    "    if r==True:\n",
    "        for cr in result.detections:\n",
    "            draw.draw_detection(f,cr) # source,points\n",
    "        \n",
    "        cv2.imshow(\"apu\",f)\n",
    "        if cv2.waitKey(25) & 0xff==ord(\"a\"):\n",
    "            break\n",
    "    else:\n",
    "        break\n",
    "cap.release()\n",
    "cv2.destroyAllWindows()"
   ]
  },
  {
   "cell_type": "code",
   "execution_count": null,
   "id": "8d53c47c-fed5-4b82-9dd6-cfae85b768c3",
   "metadata": {},
   "outputs": [],
   "source": []
  },
  {
   "cell_type": "code",
   "execution_count": null,
   "id": "38ca9e28-e526-42a9-879d-fb1ad4f1f45c",
   "metadata": {},
   "outputs": [],
   "source": []
  },
  {
   "cell_type": "code",
   "execution_count": null,
   "id": "7a9c8406-5a90-4cdf-a6b9-d5990bf6c2aa",
   "metadata": {},
   "outputs": [],
   "source": []
  }
 ],
 "metadata": {
  "kernelspec": {
   "display_name": "Python 3 (ipykernel)",
   "language": "python",
   "name": "python3"
  },
  "language_info": {
   "codemirror_mode": {
    "name": "ipython",
    "version": 3
   },
   "file_extension": ".py",
   "mimetype": "text/x-python",
   "name": "python",
   "nbconvert_exporter": "python",
   "pygments_lexer": "ipython3",
   "version": "3.12.0"
  }
 },
 "nbformat": 4,
 "nbformat_minor": 5
}
