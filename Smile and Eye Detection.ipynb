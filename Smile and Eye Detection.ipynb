{
 "cells": [
  {
   "cell_type": "code",
   "execution_count": 29,
   "id": "752c3f80-7de1-4986-8c6b-7b5e721f7b1a",
   "metadata": {},
   "outputs": [],
   "source": [
    "import cv2\n",
    "i=cv2.imread(r\"R:\\Apu.jpg\")\n",
    "\n",
    "\n",
    "i=cv2.resize(i,(500,500))\n",
    "g=cv2.cvtColor(i,cv2.COLOR_BGR2GRAY)\n",
    "f=cv2.CascadeClassifier(r\"R:\\Harr Cascade\\haarcascade_frontalface_default.xml\")\n",
    "fa=f.detectMultiScale(g,1.3,3)\n",
    "for x,y,w,h in fa:\n",
    "    roi_g=g[y:y+h,x:x+w]\n",
    "    roi_i=i[y:y+h,x:x+w]\n",
    "    \n",
    "s=cv2.CascadeClassifier(r\"R:\\Harr Cascade\\haarcascade_smile.xml\")\n",
    "sa=s.detectMultiScale(roi_g,1.3,3)            \n",
    "for m,n,p,q in sa:\n",
    "    cv2.rectangle(roi_i,(m,n),(m+p,n+q),(0,255,0),2)\n",
    "   \n",
    "cv2.imshow(\"apu\",i)\n",
    "cv2.imshow(\"apu1\",roi_i)\n",
    "cv2.waitKey(0)\n",
    "cv2.destroyAllWindows()\n",
    "        \n",
    "                     "
   ]
  },
  {
   "cell_type": "code",
   "execution_count": 32,
   "id": "9bafd6e9-2a2e-49f4-9c1d-6bbf4b8d328b",
   "metadata": {},
   "outputs": [],
   "source": [
    "import cv2\n",
    "\n",
    "\n",
    "i1 = cv2.imread(r\"R:\\getty_517194189_373099.webp\")\n",
    "i1 = cv2.resize(i1, (500, 500))\n",
    "g1 = cv2.cvtColor(i1, cv2.COLOR_BGR2GRAY)\n",
    "\n",
    "\n",
    "f = cv2.CascadeClassifier(r\"R:\\Harr Cascade\\haarcascade_frontalface_default.xml\")\n",
    "faces = f.detectMultiScale(g1, 1.3, 3)\n",
    "\n",
    "\n",
    "e = cv2.CascadeClassifier(r\"R:\\Harr Cascade\\haarcascade_eye.xml\")\n",
    "\n",
    "\n",
    "for x, y, w, h in faces:\n",
    "    roi_g1 = g1[y:y+h, x:x+w]\n",
    "    roi_i1 = i1[y:y+h, x:x+w]\n",
    "\n",
    " \n",
    "    eyes = e.detectMultiScale(roi_g1, 1.3, 3)\n",
    "    \n",
    "    for a, b, c, d in eyes:\n",
    "        cv2.rectangle(roi_i1, (a, b), (a + c, b + d), (255, 0, 0), 2)\n",
    "\n",
    "\n",
    "cv2.imshow(\"Detected Eyes\", i1)\n",
    "cv2.waitKey(0)\n",
    "cv2.destroyAllWindows()\n"
   ]
  },
  {
   "cell_type": "code",
   "execution_count": null,
   "id": "e9f4b76d-e91e-415b-b424-3416c4e4a4ba",
   "metadata": {},
   "outputs": [],
   "source": []
  },
  {
   "cell_type": "code",
   "execution_count": null,
   "id": "febad18c-4b7b-4f87-bb0e-c4334eab8a31",
   "metadata": {},
   "outputs": [],
   "source": []
  },
  {
   "cell_type": "code",
   "execution_count": null,
   "id": "841bca20-7009-42aa-b221-2eef6d8ce42e",
   "metadata": {},
   "outputs": [],
   "source": []
  }
 ],
 "metadata": {
  "kernelspec": {
   "display_name": "Python 3 (ipykernel)",
   "language": "python",
   "name": "python3"
  },
  "language_info": {
   "codemirror_mode": {
    "name": "ipython",
    "version": 3
   },
   "file_extension": ".py",
   "mimetype": "text/x-python",
   "name": "python",
   "nbconvert_exporter": "python",
   "pygments_lexer": "ipython3",
   "version": "3.12.0"
  }
 },
 "nbformat": 4,
 "nbformat_minor": 5
}
