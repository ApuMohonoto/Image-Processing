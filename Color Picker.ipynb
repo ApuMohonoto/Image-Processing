{
 "cells": [
  {
   "cell_type": "code",
   "execution_count": 12,
   "id": "4a8063eb-7d28-4445-aabd-d3bd6329b29d",
   "metadata": {},
   "outputs": [],
   "source": [
    "import cv2\n",
    "import numpy as np\n",
    "n=np.zeros((500,500,3),np.uint8)*255\n",
    "def apu(x):\n",
    "    pass\n",
    "cv2.namedWindow(\"Color\")\n",
    "cv2.createTrackbar(\"R\",\"Color\",0,255,apu)#color name,window name,range,function name\n",
    "cv2.createTrackbar(\"G\",\"Color\",0,255,apu)\n",
    "cv2.createTrackbar(\"B\",\"Color\",0,255,apu)\n",
    "\n",
    "while True:\n",
    "    cv2.imshow(\"Color\",n)\n",
    "    if cv2.waitKey(1) & 0xff==ord(\"a\"):\n",
    "        break\n",
    "    b=cv2.getTrackbarPos(\"B\",\"Color\")\n",
    "    g=cv2.getTrackbarPos(\"G\",\"Color\")\n",
    "    r=cv2.getTrackbarPos(\"R\",\"Color\")\n",
    "    n[:]=[b,g,r]\n",
    "cv2.destroyAllWindows() "
   ]
  },
  {
   "cell_type": "code",
   "execution_count": null,
   "id": "e8b7213e-a743-47e8-b303-ace70f88780f",
   "metadata": {},
   "outputs": [],
   "source": []
  },
  {
   "cell_type": "code",
   "execution_count": null,
   "id": "7d8f0651-c0f1-406a-881f-cbf2a99096ee",
   "metadata": {},
   "outputs": [],
   "source": []
  },
  {
   "cell_type": "code",
   "execution_count": null,
   "id": "094a67b8-cf8a-439c-b630-cb488021fe72",
   "metadata": {},
   "outputs": [],
   "source": []
  }
 ],
 "metadata": {
  "kernelspec": {
   "display_name": "Python 3 (ipykernel)",
   "language": "python",
   "name": "python3"
  },
  "language_info": {
   "codemirror_mode": {
    "name": "ipython",
    "version": 3
   },
   "file_extension": ".py",
   "mimetype": "text/x-python",
   "name": "python",
   "nbconvert_exporter": "python",
   "pygments_lexer": "ipython3",
   "version": "3.12.0"
  }
 },
 "nbformat": 4,
 "nbformat_minor": 5
}
