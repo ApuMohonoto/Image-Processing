{
 "cells": [
  {
   "cell_type": "code",
   "execution_count": 10,
   "id": "e90493e2-b96d-42e6-bf61-5eae8349b086",
   "metadata": {},
   "outputs": [],
   "source": [
    "img1=cv2.imread(r\"R:\\Mobile's Photo\\DCIM\\Camera\\IMG_20240404_111921.jpg\")\n",
    "img2=cv2.imread(r\"R:\\Ruponty\\IMG_20250320_185257.jpg\")\n",
    "i1=cv2.resize(img1,(400,500))\n",
    "i2=cv2.resize(img2,(400,500))\n",
    "new_img=cv2.addWeighted(i1,1,i2,.7,4)#img1,alpha,img2,alpha,beta\n",
    "cv2.imshow(\"apu\",new_img)\n",
    "cv2.waitKey(0)\n",
    "cv2.destroyAllWindows()"
   ]
  },
  {
   "cell_type": "code",
   "execution_count": 11,
   "id": "4b0bf456-ba9b-4692-8385-e1dd2f75b3d9",
   "metadata": {},
   "outputs": [],
   "source": [
    "img1=cv2.imread(r\"R:\\Mobile's Photo\\DCIM\\Camera\\IMG_20240404_111921.jpg\")\n",
    "img2=cv2.imread(r\"R:\\Ruponty\\IMG_20250320_185257.jpg\")\n",
    "i1=cv2.resize(img1,(400,500))\n",
    "i2=cv2.resize(img2,(400,500))\n",
    "new_img=cv2.subtract(i1,i2)#subtract the not common thing\n",
    "\n",
    "cv2.imshow(\"apu\",new_img)\n",
    "cv2.waitKey(0)\n",
    "cv2.destroyAllWindows()"
   ]
  },
  {
   "cell_type": "code",
   "execution_count": null,
   "id": "886996df-1dfd-4c47-9dc0-5ff4053b45d5",
   "metadata": {},
   "outputs": [],
   "source": []
  }
 ],
 "metadata": {
  "kernelspec": {
   "display_name": "Python 3 (ipykernel)",
   "language": "python",
   "name": "python3"
  },
  "language_info": {
   "codemirror_mode": {
    "name": "ipython",
    "version": 3
   },
   "file_extension": ".py",
   "mimetype": "text/x-python",
   "name": "python",
   "nbconvert_exporter": "python",
   "pygments_lexer": "ipython3",
   "version": "3.12.0"
  }
 },
 "nbformat": 4,
 "nbformat_minor": 5
}
