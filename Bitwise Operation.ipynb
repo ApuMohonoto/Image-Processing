{
 "cells": [
  {
   "cell_type": "code",
   "execution_count": 6,
   "id": "00658204-672e-4496-87c6-5b74b3e5b51c",
   "metadata": {},
   "outputs": [],
   "source": [
    "import cv2\n",
    "import numpy as np\n",
    "i1=cv2.imread(r\"R:\\binary-cards-black_back-no-display_numbers-yes-paper_size-a4.png\")\n",
    "i2=cv2.imread(r\"R:\\a-Image-with-a-misplaced-dot-b-Binary-image-c-Misplaced-dot-removed_Q320.jpg\")\n",
    "i1=cv2.resize(i1,(300,400))\n",
    "i2=cv2.resize(i2,(300,400))\n",
    "im=cv2.bitwise_and(i1,i2)\n",
    "img=np.hstack((i1,i2,im))\n",
    "cv2.imshow(\"apu\",img)\n",
    "cv2.waitKey(0)\n",
    "cv2.destroyAllWindows()\n"
   ]
  },
  {
   "cell_type": "code",
   "execution_count": 7,
   "id": "c20f2960-2135-4647-96c3-9513923b3e60",
   "metadata": {},
   "outputs": [],
   "source": [
    "import cv2\n",
    "import numpy as np\n",
    "i1=cv2.imread(r\"R:\\binary-cards-black_back-no-display_numbers-yes-paper_size-a4.png\")\n",
    "i2=cv2.imread(r\"R:\\a-Image-with-a-misplaced-dot-b-Binary-image-c-Misplaced-dot-removed_Q320.jpg\")\n",
    "i1=cv2.resize(i1,(300,400))\n",
    "i2=cv2.resize(i2,(300,400))\n",
    "im=cv2.bitwise_or(i1,i2)\n",
    "img=np.hstack((i1,i2,im))\n",
    "cv2.imshow(\"apu\",img)\n",
    "cv2.waitKey(0)\n",
    "cv2.destroyAllWindows()"
   ]
  },
  {
   "cell_type": "code",
   "execution_count": 11,
   "id": "74e162fb-609e-4a71-a62e-faa73e1e6c42",
   "metadata": {},
   "outputs": [],
   "source": [
    "import cv2\n",
    "import numpy as np\n",
    "i1=cv2.imread(r\"R:\\binary-cards-black_back-no-display_numbers-yes-paper_size-a4.png\")\n",
    "i2=cv2.imread(r\"R:\\a-Image-with-a-misplaced-dot-b-Binary-image-c-Misplaced-dot-removed_Q320.jpg\")\n",
    "i1=cv2.resize(i1,(300,400))\n",
    "i2=cv2.resize(i2,(300,400))\n",
    "im=cv2.bitwise_not(i1)\n",
    "img=np.hstack((i1,im))\n",
    "cv2.imshow(\"apu\",img)\n",
    "cv2.waitKey(0)\n",
    "cv2.destroyAllWindows()"
   ]
  },
  {
   "cell_type": "code",
   "execution_count": 10,
   "id": "bb1b1cd2-2d2b-4092-acbc-00524c81e6a0",
   "metadata": {},
   "outputs": [],
   "source": [
    "import cv2\n",
    "import numpy as np\n",
    "i1=cv2.imread(r\"R:\\binary-cards-black_back-no-display_numbers-yes-paper_size-a4.png\")\n",
    "i2=cv2.imread(r\"R:\\a-Image-with-a-misplaced-dot-b-Binary-image-c-Misplaced-dot-removed_Q320.jpg\")\n",
    "i1=cv2.resize(i1,(300,400))\n",
    "i2=cv2.resize(i2,(300,400))\n",
    "im=cv2.bitwise_xor(i1,i2)\n",
    "img=np.hstack((i1,i2,im))\n",
    "cv2.imshow(\"apu\",img)\n",
    "cv2.waitKey(0)\n",
    "cv2.destroyAllWindows()"
   ]
  },
  {
   "cell_type": "code",
   "execution_count": null,
   "id": "ce5da119-a927-4ad7-a197-fc606c83b303",
   "metadata": {},
   "outputs": [],
   "source": []
  }
 ],
 "metadata": {
  "kernelspec": {
   "display_name": "Python 3 (ipykernel)",
   "language": "python",
   "name": "python3"
  },
  "language_info": {
   "codemirror_mode": {
    "name": "ipython",
    "version": 3
   },
   "file_extension": ".py",
   "mimetype": "text/x-python",
   "name": "python",
   "nbconvert_exporter": "python",
   "pygments_lexer": "ipython3",
   "version": "3.12.0"
  }
 },
 "nbformat": 4,
 "nbformat_minor": 5
}
