{
 "cells": [
  {
   "cell_type": "code",
   "execution_count": 10,
   "id": "73bd0d85-fc54-4ffe-94aa-a3b46c4e857d",
   "metadata": {
    "scrolled": true
   },
   "outputs": [],
   "source": [
    "import cv2\n",
    "img=cv2.imread(r\"R:\\rohan.JPG\")\n",
    "img1=cv2.resize(img,(400,600))\n",
    "im=cv2.line(img=img1,pt1=(170,94),pt2=(194,94),color=(0,255,0),thickness=4,lineType=16)\n",
    "i=cv2.imshow(\"apu\",im)\n",
    "cv2.waitKey(0)\n",
    "cv2.destroyAllWindows()\n"
   ]
  },
  {
   "cell_type": "code",
   "execution_count": 25,
   "id": "25d3a165-4876-4198-ade8-7ac841aedd13",
   "metadata": {},
   "outputs": [],
   "source": [
    "import cv2\n",
    "img=cv2.imread(r\"R:\\rohan.JPG\")\n",
    "img1=cv2.resize(img,(400,600))\n",
    "im=cv2.rectangle(img=img1,pt1=(170,94),pt2=(210,210),color=(0,255,0),thickness=4,lineType=16)\n",
    "i=cv2.imshow(\"apu\",im)\n",
    "cv2.waitKey(0)\n",
    "cv2.destroyAllWindows()\n"
   ]
  },
  {
   "cell_type": "code",
   "execution_count": 46,
   "id": "2ce91381-7965-4fba-af76-079bfe27f35b",
   "metadata": {},
   "outputs": [],
   "source": [
    "import cv2\n",
    "img=cv2.imread(r\"R:\\rohan.JPG\")\n",
    "img1=cv2.resize(img,(400,600))\n",
    "im=cv2.rectangle(img=img1,pt1=(170,94),pt2=(210,210),color=(0,255,0),thickness=4,lineType=16)\n",
    "txt=cv2.putText(img=im,text=\"Failure\",org=(100,90),fontFace=1,fontScale=5,color=(0,0,255),thickness=3,lineType=16,bottomLeftOrigin=False)\n",
    "i=cv2.imshow(\"apu\",txt)\n",
    "cv2.waitKey(0)\n",
    "cv2.destroyAllWindows()"
   ]
  },
  {
   "cell_type": "code",
   "execution_count": null,
   "id": "1f1712fa-45d6-44ea-9eae-253135568cb3",
   "metadata": {},
   "outputs": [],
   "source": []
  },
  {
   "cell_type": "code",
   "execution_count": null,
   "id": "28ba60a4-828e-42dd-a93b-9203a97498c6",
   "metadata": {},
   "outputs": [],
   "source": []
  }
 ],
 "metadata": {
  "kernelspec": {
   "display_name": "Python 3 (ipykernel)",
   "language": "python",
   "name": "python3"
  },
  "language_info": {
   "codemirror_mode": {
    "name": "ipython",
    "version": 3
   },
   "file_extension": ".py",
   "mimetype": "text/x-python",
   "name": "python",
   "nbconvert_exporter": "python",
   "pygments_lexer": "ipython3",
   "version": "3.12.0"
  }
 },
 "nbformat": 4,
 "nbformat_minor": 5
}
