{
 "cells": [
  {
   "cell_type": "code",
   "execution_count": 1,
   "id": "e5bb0a27-41d9-42ef-b36a-80e3005710be",
   "metadata": {},
   "outputs": [],
   "source": [
    "import cv2\n",
    "import numpy as np\n",
    "img=np.zeros((500,500,3),np.uint8)\n",
    "def apu(x):\n",
    "    pass\n",
    "cv2.namedWindow(\"Color\")\n",
    "cv2.createTrackbar(\"R\",\"Color\",0,100,apu)#name,windowname,range,fuction\n",
    "while True:\n",
    "    cv2.imshow(\"Color\",img)\n",
    "    if cv2.waitKey(1) & 0xff==ord(\"a\"):\n",
    "        break\n",
    "    i=cv2.getTrackbarPos(\"R\",\"Color\")\n",
    "    img[:]=[0,0,i]# for change the color\n",
    "cv2.destroyAllWindows()\n",
    " "
   ]
  },
  {
   "cell_type": "code",
   "execution_count": null,
   "id": "c6a457d8-1f06-4e3e-8a9e-e59459b30b48",
   "metadata": {},
   "outputs": [],
   "source": []
  },
  {
   "cell_type": "code",
   "execution_count": null,
   "id": "18da5562-de9f-4a7b-a592-9463611065c2",
   "metadata": {},
   "outputs": [],
   "source": []
  },
  {
   "cell_type": "code",
   "execution_count": null,
   "id": "3546c4b3-5deb-40d1-acef-84bf15e4f3a9",
   "metadata": {},
   "outputs": [],
   "source": []
  },
  {
   "cell_type": "code",
   "execution_count": null,
   "id": "7f466cce-998f-42e2-8408-294cfbb158ca",
   "metadata": {},
   "outputs": [],
   "source": []
  }
 ],
 "metadata": {
  "kernelspec": {
   "display_name": "Python 3 (ipykernel)",
   "language": "python",
   "name": "python3"
  },
  "language_info": {
   "codemirror_mode": {
    "name": "ipython",
    "version": 3
   },
   "file_extension": ".py",
   "mimetype": "text/x-python",
   "name": "python",
   "nbconvert_exporter": "python",
   "pygments_lexer": "ipython3",
   "version": "3.12.0"
  }
 },
 "nbformat": 4,
 "nbformat_minor": 5
}
