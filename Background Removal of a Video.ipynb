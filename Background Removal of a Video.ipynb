{
 "cells": [
  {
   "cell_type": "code",
   "execution_count": 11,
   "id": "b2a5eb26-c155-4b89-835e-8aaac1f9ee20",
   "metadata": {},
   "outputs": [],
   "source": [
    "import cv2\n",
    "cap=cv2.VideoCapture(r\"R:\\Mobile's Photo\\Manali and Vrindaban\\VID_20250609_064507.mp4\")\n",
    "algo1=cv2.createBackgroundSubtractorKNN(detectShadows=True)\n",
    "algo2=cv2.createBackgroundSubtractorMOG2(detectShadows=True)\n",
    "\n",
    "while True:\n",
    "    r,f=cap.read()\n",
    "    if r==True:\n",
    "        f=cv2.resize(f,(500,500))\n",
    "        r1=algo1.apply(f)\n",
    "        r2=algo2.apply(f)\n",
    "        cv2.imshow(\"apu1\",r1)\n",
    "        cv2.imshow(\"apu2\",r2)\n",
    "        cv2.imshow(\"apu\",f)\n",
    "        if cv2.waitKey(25) & 0xff==ord(\"s\"):\n",
    "            break\n",
    "    else:\n",
    "        break\n",
    "cap.release()\n",
    "cv2.destroyAllWindows()\n",
    "        \n",
    "                     "
   ]
  },
  {
   "cell_type": "code",
   "execution_count": null,
   "id": "5852750c-93d8-4609-b3e7-8b7c85e58b32",
   "metadata": {},
   "outputs": [],
   "source": []
  },
  {
   "cell_type": "code",
   "execution_count": 4,
   "id": "8662ea4d-dde6-4727-8d86-2c83a9d040c6",
   "metadata": {},
   "outputs": [
    {
     "ename": "NameError",
     "evalue": "name 's' is not defined",
     "output_type": "error",
     "traceback": [
      "\u001b[1;31m---------------------------------------------------------------------------\u001b[0m",
      "\u001b[1;31mNameError\u001b[0m                                 Traceback (most recent call last)",
      "Cell \u001b[1;32mIn[4], line 1\u001b[0m\n\u001b[1;32m----> 1\u001b[0m \u001b[43ms\u001b[49m\n",
      "\u001b[1;31mNameError\u001b[0m: name 's' is not defined"
     ]
    }
   ],
   "source": []
  },
  {
   "cell_type": "code",
   "execution_count": null,
   "id": "db2ce11b-a8ba-49e2-98c3-d25e76d03dcf",
   "metadata": {},
   "outputs": [],
   "source": []
  }
 ],
 "metadata": {
  "kernelspec": {
   "display_name": "Python 3 (ipykernel)",
   "language": "python",
   "name": "python3"
  },
  "language_info": {
   "codemirror_mode": {
    "name": "ipython",
    "version": 3
   },
   "file_extension": ".py",
   "mimetype": "text/x-python",
   "name": "python",
   "nbconvert_exporter": "python",
   "pygments_lexer": "ipython3",
   "version": "3.12.0"
  }
 },
 "nbformat": 4,
 "nbformat_minor": 5
}
