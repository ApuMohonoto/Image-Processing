{
 "cells": [
  {
   "cell_type": "code",
   "execution_count": 9,
   "id": "b53189c4-1c6d-474e-96a6-6f208f03f6da",
   "metadata": {},
   "outputs": [],
   "source": [
    "import cv2\n",
    "import numpy as np\n",
    "img=cv2.imread(r\"R:\\rohan.JPG\")\n",
    "img1=cv2.resize(img,(400,600))\n",
    "m=np.float32([[1,0,0],[1,0,5]])\n",
    "n=cv2.warpAffine(img,m,(400,600))#warpaffine used to merge the the image with original image\n",
    "i=cv2.imshow(\"apu\",n)\n",
    "cv2.waitKey(0)\n",
    "cv2.destroyAllWindows()\n"
   ]
  },
  {
   "cell_type": "code",
   "execution_count": null,
   "id": "6851a294-8f06-4015-b978-a8271a2b8f1a",
   "metadata": {},
   "outputs": [],
   "source": []
  }
 ],
 "metadata": {
  "kernelspec": {
   "display_name": "Python 3 (ipykernel)",
   "language": "python",
   "name": "python3"
  },
  "language_info": {
   "codemirror_mode": {
    "name": "ipython",
    "version": 3
   },
   "file_extension": ".py",
   "mimetype": "text/x-python",
   "name": "python",
   "nbconvert_exporter": "python",
   "pygments_lexer": "ipython3",
   "version": "3.12.0"
  }
 },
 "nbformat": 4,
 "nbformat_minor": 5
}
