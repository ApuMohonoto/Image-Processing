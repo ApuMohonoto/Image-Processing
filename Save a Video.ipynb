{
 "cells": [
  {
   "cell_type": "code",
   "execution_count": 8,
   "id": "acaf1e4d-639a-4381-9cd6-3b1b1e888d35",
   "metadata": {},
   "outputs": [],
   "source": [
    "import cv2\n",
    "video=cv2.VideoCapture(0)\n",
    "f=cv2.VideoWriter_fourcc(*\"XVID\")\n",
    "out=cv2.VideoWriter(\"R:\\\\apu.mp4\",f,25.0,(640,480),0)#video name,fourcc,frame,resolution\n",
    "while video.isOpened():\n",
    "    r,frame=video.read()\n",
    "    if r==True:\n",
    "        frame=cv2.cvtColor(frame,cv2.COLOR_BGR2GRAY)\n",
    "        frame=cv2.flip(frame,1)\n",
    "        out.write(frame)\n",
    "        cv2.imshow(\"apu\",frame)\n",
    "        if cv2.waitKey(25) & 0xff==ord(\"a\"):\n",
    "            break\n",
    "    else:\n",
    "        break\n",
    "video.release()\n",
    "out.release()\n",
    "cv2.destroyAllWindows()"
   ]
  },
  {
   "cell_type": "code",
   "execution_count": null,
   "id": "95c2caf0-5e7f-47a6-a745-42d535d86f88",
   "metadata": {},
   "outputs": [],
   "source": []
  },
  {
   "cell_type": "code",
   "execution_count": null,
   "id": "6f321195-c456-4eeb-a419-6a08fb7545d7",
   "metadata": {},
   "outputs": [],
   "source": []
  },
  {
   "cell_type": "code",
   "execution_count": null,
   "id": "a8d6fd69-3a20-494b-887c-a63c1f2684d7",
   "metadata": {},
   "outputs": [],
   "source": []
  }
 ],
 "metadata": {
  "kernelspec": {
   "display_name": "Python 3 (ipykernel)",
   "language": "python",
   "name": "python3"
  },
  "language_info": {
   "codemirror_mode": {
    "name": "ipython",
    "version": 3
   },
   "file_extension": ".py",
   "mimetype": "text/x-python",
   "name": "python",
   "nbconvert_exporter": "python",
   "pygments_lexer": "ipython3",
   "version": "3.12.0"
  }
 },
 "nbformat": 4,
 "nbformat_minor": 5
}
