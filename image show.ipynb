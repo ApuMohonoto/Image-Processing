{
 "cells": [
  {
   "cell_type": "code",
   "execution_count": null,
   "id": "ce445bf4-82f7-472e-ae28-a17faa7390bf",
   "metadata": {},
   "outputs": [],
   "source": [
    "import cv2\n",
    "img=cv2.imread(\"rohan.JPG\")\n",
    "cv2.imshow(\"apu\",img)\n",
    "cv2.waitKey(100000)\n",
    "cv2.destroywindow()\n",
    "\n"
   ]
  },
  {
   "cell_type": "code",
   "execution_count": null,
   "id": "831f7d2f-31de-4e48-abca-1f5ee8f0f4de",
   "metadata": {},
   "outputs": [],
   "source": []
  },
  {
   "cell_type": "code",
   "execution_count": null,
   "id": "60dd4866-786e-4be0-84f1-d22c9dfed10f",
   "metadata": {},
   "outputs": [],
   "source": []
  },
  {
   "cell_type": "code",
   "execution_count": null,
   "id": "dd455588-b9a3-4a89-91f6-6546ae3164ac",
   "metadata": {},
   "outputs": [],
   "source": []
  }
 ],
 "metadata": {
  "kernelspec": {
   "display_name": "Python 3 (ipykernel)",
   "language": "python",
   "name": "python3"
  },
  "language_info": {
   "codemirror_mode": {
    "name": "ipython",
    "version": 3
   },
   "file_extension": ".py",
   "mimetype": "text/x-python",
   "name": "python",
   "nbconvert_exporter": "python",
   "pygments_lexer": "ipython3",
   "version": "3.12.0"
  }
 },
 "nbformat": 4,
 "nbformat_minor": 5
}
