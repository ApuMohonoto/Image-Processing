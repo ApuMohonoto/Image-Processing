{
 "cells": [
  {
   "cell_type": "code",
   "execution_count": 7,
   "id": "e50cd8b5-da47-442f-a449-ad6fb03a288d",
   "metadata": {},
   "outputs": [
    {
     "name": "stdout",
     "output_type": "stream",
     "text": [
      "(4000, 6000)\n"
     ]
    }
   ],
   "source": [
    "import cv2\n",
    "img=cv2.imread(r\"R:\\rohan.JPG\",0)\n",
    "print(img.shape)\n",
    "img1=cv2.resize(img,(400,600))\n",
    "i=cv2.imshow(\"apu\",img1)\n",
    "cv2.waitKey(3000)\n",
    "cv2.destroyAllWindows()\n"
   ]
  },
  {
   "cell_type": "code",
   "execution_count": 6,
   "id": "9bad994c-52df-4e1a-ae04-6d7b76721d92",
   "metadata": {},
   "outputs": [
    {
     "name": "stdout",
     "output_type": "stream",
     "text": [
      "(4000, 6000, 3)\n"
     ]
    }
   ],
   "source": [
    "import cv2\n",
    "img=cv2.imread(r\"R:\\rohan.JPG\",-1)#alpha parameter\n",
    "print(img.shape)\n",
    "img1=cv2.resize(img,(400,600))\n",
    "i=cv2.imshow(\"apu\",img1)\n",
    "cv2.waitKey(3000)\n",
    "cv2.destroyAllWindows()"
   ]
  },
  {
   "cell_type": "code",
   "execution_count": null,
   "id": "6ee19627-f7a8-4592-afbc-05f3df30e573",
   "metadata": {},
   "outputs": [],
   "source": []
  }
 ],
 "metadata": {
  "kernelspec": {
   "display_name": "Python 3 (ipykernel)",
   "language": "python",
   "name": "python3"
  },
  "language_info": {
   "codemirror_mode": {
    "name": "ipython",
    "version": 3
   },
   "file_extension": ".py",
   "mimetype": "text/x-python",
   "name": "python",
   "nbconvert_exporter": "python",
   "pygments_lexer": "ipython3",
   "version": "3.12.0"
  }
 },
 "nbformat": 4,
 "nbformat_minor": 5
}
