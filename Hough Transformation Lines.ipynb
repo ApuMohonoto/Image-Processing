{
 "cells": [
  {
   "cell_type": "code",
   "execution_count": 8,
   "id": "f92a46c7-9fbd-4e8b-bbb0-120e580269c0",
   "metadata": {},
   "outputs": [],
   "source": [
    "import cv2\n",
    "import numpy as np\n",
    "i0=cv2.imread(r\"R:\\Sudoku-by-L2G-20050714.svg.png\")\n",
    "i=cv2.resize(i0,(500,500))\n",
    "i1=cv2.cvtColor(i,cv2.COLOR_BGR2GRAY)\n",
    "i2=cv2.Canny(i1,200,250)#threshold\n",
    "lines=cv2.HoughLines(i2,1,np.pi/180,200)#r,Θ,threshold\n",
    "for r,Θ in lines[0]:\n",
    "    a=np.cos(Θ)\n",
    "    b=np.sin(Θ)\n",
    "    x0=a*r\n",
    "    y0=b*r\n",
    "    x1=int(x0+1000*(-b))\n",
    "    y1=int(y0+1000*(a))\n",
    "    x2=int(x0-1000*(-b))\n",
    "    y2=int(y0-1000*(a))\n",
    "    cv2.line(i,(x1,y1),(x2,y2),(0,255,0),2)\n",
    "cv2.imshow(\"apu\",i)\n",
    "cv2.waitKey(0)\n",
    "cv2.destroyAllWindows()"
   ]
  },
  {
   "cell_type": "code",
   "execution_count": 12,
   "id": "0f8c87ae-3ada-45fa-a145-55e0002c882e",
   "metadata": {},
   "outputs": [],
   "source": [
    "import cv2\n",
    "import numpy as np\n",
    "i0=cv2.imread(r\"R:\\Sudoku-by-L2G-20050714.svg.png\")\n",
    "i=cv2.resize(i0,(500,500))\n",
    "i1=cv2.cvtColor(i,cv2.COLOR_BGR2GRAY)\n",
    "i2=cv2.Canny(i1,200,250)#threshold\n",
    "lines=cv2.HoughLinesP(i2,1,np.pi/180,200,minLineLength=180,maxLineGap=100)#r,Θ,threshold\n",
    "for m in lines:\n",
    "    x1,y1,x2,y2=m[0]\n",
    "    cv2.line(i,(x1,y1),(x2,y2),(0,255,0),2)\n",
    "cv2.imshow(\"apu\",i)\n",
    "cv2.waitKey(0)\n",
    "cv2.destroyAllWindows()"
   ]
  },
  {
   "cell_type": "code",
   "execution_count": null,
   "id": "5365e07c-7ada-47d5-8ef6-1e24dcbecae3",
   "metadata": {},
   "outputs": [],
   "source": []
  }
 ],
 "metadata": {
  "kernelspec": {
   "display_name": "Python 3 (ipykernel)",
   "language": "python",
   "name": "python3"
  },
  "language_info": {
   "codemirror_mode": {
    "name": "ipython",
    "version": 3
   },
   "file_extension": ".py",
   "mimetype": "text/x-python",
   "name": "python",
   "nbconvert_exporter": "python",
   "pygments_lexer": "ipython3",
   "version": "3.12.0"
  }
 },
 "nbformat": 4,
 "nbformat_minor": 5
}
