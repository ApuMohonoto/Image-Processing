{
 "cells": [
  {
   "cell_type": "code",
   "execution_count": null,
   "id": "4311d29e-80a4-4dd8-99b8-9b258fb4cc56",
   "metadata": {},
   "outputs": [],
   "source": [
    "import cv2\n",
    "import numpy as np\n",
    "img=cv2.imread(r\"R:\\Mobile's Photo\\DCIM\\Camera\\IMG_20241013_164657.jpg\")\n",
    "re=cv2.resize(img,(200,300))\n",
    "cv2.imshow(\"apu\",re)\n",
    "cv2.waitKey(0)\n",
    "cv2.destroyAllWindows()"
   ]
  },
  {
   "cell_type": "code",
   "execution_count": null,
   "id": "0e94fa0c-4993-4085-9abe-2dc7dc3776eb",
   "metadata": {},
   "outputs": [],
   "source": [
    "import cv2\n",
    "import numpy as np\n",
    "img=cv2.imread(r\"R:\\Mobile's Photo\\DCIM\\Camera\\IMG_20241013_164657.jpg\")\n",
    "re=cv2.resize(img,(200,300))\n",
    "h= np.hstack((re,re))\n",
    "cv2.imshow(\"rohan\",h)\n",
    "cv2.waitKey(0)\n",
    "cv2.destroyAllWindows()"
   ]
  },
  {
   "cell_type": "code",
   "execution_count": null,
   "id": "115cfa3b-3654-4f21-9aaf-6658102347cb",
   "metadata": {},
   "outputs": [],
   "source": [
    "import cv2\n",
    "import numpy as np\n",
    "img=cv2.imread(r\"R:\\Mobile's Photo\\DCIM\\Camera\\IMG_20241013_164657.jpg\")\n",
    "re=cv2.resize(img,(20,30))\n",
    "h= np.hstack((re,re,re))\n",
    "v=np.vstack((h,h,h,h))\n",
    "cv2.imshow(\"rohan\",v)\n",
    "cv2.waitKey(0)\n",
    "cv2.destroyAllWindows()"
   ]
  },
  {
   "cell_type": "code",
   "execution_count": null,
   "id": "e6dd7ba2-41ad-4da7-9f5a-3e998c76b668",
   "metadata": {},
   "outputs": [],
   "source": [
    "import os\n",
    "import cv2\n",
    "list= os.listdir(r\"R:\\Mobile's Photo\\DCIM\\Camera\")\n",
    "list"
   ]
  },
  {
   "cell_type": "code",
   "execution_count": null,
   "id": "fb9b70f5-41a2-4ca7-a7c2-a6f18f194521",
   "metadata": {},
   "outputs": [],
   "source": [
    "import os\n",
    "import cv2\n",
    "list= os.listdir(r\"R:\\Mobile's Photo\\DCIM\\Camera\")\n",
    "for name in list:\n",
    "    path=\"R:\\\\Mobile's Photo\\\\DCIM\\\\Camera\"\n",
    "    img_name= path + \"\\\\\" + name\n",
    "    img1 = cv2.imread(img_name)\n",
    "    img=cv2.resize(img1,(300,500))\n",
    "    cv2.imshow(\"apu\",img)\n",
    "    cv2.waitKey(1000)\n",
    "cv2.destroyAllWindows()    \n",
    "    "
   ]
  },
  {
   "cell_type": "code",
   "execution_count": null,
   "id": "d29cc6b5-afbf-4eda-8475-8a5106fb1430",
   "metadata": {},
   "outputs": [],
   "source": []
  },
  {
   "cell_type": "code",
   "execution_count": null,
   "id": "8fc7c8aa-dba2-4bda-a8ce-e60c4f351a30",
   "metadata": {},
   "outputs": [],
   "source": []
  }
 ],
 "metadata": {
  "kernelspec": {
   "display_name": "Python 3 (ipykernel)",
   "language": "python",
   "name": "python3"
  },
  "language_info": {
   "codemirror_mode": {
    "name": "ipython",
    "version": 3
   },
   "file_extension": ".py",
   "mimetype": "text/x-python",
   "name": "python",
   "nbconvert_exporter": "python",
   "pygments_lexer": "ipython3",
   "version": "3.12.0"
  }
 },
 "nbformat": 4,
 "nbformat_minor": 5
}
