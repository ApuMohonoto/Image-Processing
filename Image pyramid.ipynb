{
 "cells": [
  {
   "cell_type": "code",
   "execution_count": 6,
   "id": "fb5bbbf7-548a-4c40-bcfe-cc4087a30442",
   "metadata": {},
   "outputs": [
    {
     "name": "stdout",
     "output_type": "stream",
     "text": [
      "(4000, 6000, 3)\n"
     ]
    }
   ],
   "source": [
    "import cv2\n",
    "img=cv2.imread(r\"R:\\rohan.JPG\")\n",
    "print(img.shape)\n",
    "i=cv2.pyrDown(img)\n",
    "j=cv2.pyrDown(i)\n",
    "k=cv2.pyrDown(j)\n",
    "x=cv2.imshow(\"apu\",i)\n",
    "y=cv2.imshow(\"apu1\",j)\n",
    "z=cv2.imshow(\"apu2\",k)\n",
    "cv2.waitKey(0)\n",
    "cv2.destroyAllWindows()\n"
   ]
  },
  {
   "cell_type": "code",
   "execution_count": 7,
   "id": "53e557e1-84e7-423a-9d15-20621eab6d0c",
   "metadata": {},
   "outputs": [],
   "source": [
    "a=cv2.pyrUp(j)\n",
    "b=cv2.pyrUp(i)\n",
    "o=cv2.imshow(\"apu3\",a)\n",
    "p=cv2.imshow(\"apu4\",b)\n",
    "cv2.waitKey(0)\n",
    "cv2.destroyAllWindows()\n"
   ]
  },
  {
   "cell_type": "code",
   "execution_count": null,
   "id": "639440ca-5ad3-4bd7-8b9a-caaaab5f513a",
   "metadata": {},
   "outputs": [],
   "source": []
  }
 ],
 "metadata": {
  "kernelspec": {
   "display_name": "Python 3 (ipykernel)",
   "language": "python",
   "name": "python3"
  },
  "language_info": {
   "codemirror_mode": {
    "name": "ipython",
    "version": 3
   },
   "file_extension": ".py",
   "mimetype": "text/x-python",
   "name": "python",
   "nbconvert_exporter": "python",
   "pygments_lexer": "ipython3",
   "version": "3.12.0"
  }
 },
 "nbformat": 4,
 "nbformat_minor": 5
}
