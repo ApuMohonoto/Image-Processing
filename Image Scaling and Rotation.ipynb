{
 "cells": [
  {
   "cell_type": "code",
   "execution_count": 10,
   "id": "104745de-012d-4e42-8f15-891cc3bd3672",
   "metadata": {},
   "outputs": [],
   "source": [
    "import cv2\n",
    "import numpy as np\n",
    "img=cv2.imread(r\"R:\\Mobile's Photo\\DCIM\\Camera\\IMG_20240404_111921.jpg\")\n",
    "img1=cv2.resize(img,(400,600))\n",
    "w,h=img1.shape[0],img1.shape[1]\n",
    "m=cv2.getRotationMatrix2D((w/2,h/2),30,1)#center,angle,scale\n",
    "new=cv2.warpAffine(img1,m,(h,w))# to combine new image and previous image\n",
    "h=np.hstack((img1,new))\n",
    "i=cv2.imshow(\"apu\",h)\n",
    "cv2.waitKey(0)\n",
    "cv2.destroyAllWindows()\n"
   ]
  },
  {
   "cell_type": "code",
   "execution_count": null,
   "id": "e9a813bb-56d0-4794-9c2b-ea058179bb11",
   "metadata": {},
   "outputs": [],
   "source": []
  }
 ],
 "metadata": {
  "kernelspec": {
   "display_name": "Python 3 (ipykernel)",
   "language": "python",
   "name": "python3"
  },
  "language_info": {
   "codemirror_mode": {
    "name": "ipython",
    "version": 3
   },
   "file_extension": ".py",
   "mimetype": "text/x-python",
   "name": "python",
   "nbconvert_exporter": "python",
   "pygments_lexer": "ipython3",
   "version": "3.12.0"
  }
 },
 "nbformat": 4,
 "nbformat_minor": 5
}
