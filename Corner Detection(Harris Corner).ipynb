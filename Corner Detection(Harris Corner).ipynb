{
 "cells": [
  {
   "cell_type": "code",
   "execution_count": 14,
   "id": "3a7c44ce-9ca7-450b-9ce2-8a3325708f20",
   "metadata": {},
   "outputs": [
    {
     "name": "stdout",
     "output_type": "stream",
     "text": [
      "[[0. 0. 0. ... 0. 0. 0.]\n",
      " [0. 0. 0. ... 0. 0. 0.]\n",
      " [0. 0. 0. ... 0. 0. 0.]\n",
      " ...\n",
      " [0. 0. 0. ... 0. 0. 0.]\n",
      " [0. 0. 0. ... 0. 0. 0.]\n",
      " [0. 0. 0. ... 0. 0. 0.]]\n"
     ]
    }
   ],
   "source": [
    "import cv2\n",
    "import numpy as np\n",
    "i=cv2.imread(r\"R:\\stock.jpg\")\n",
    "i=cv2.resize(i,(500,500))\n",
    "g=cv2.cvtColor(i,cv2.COLOR_BGR2GRAY)\n",
    "g=np.float32(g)\n",
    "res=cv2.cornerHarris(g,3,3,0.04)#source,blocksize,kernel size,number of points\n",
    "res=cv2.dilate(res,None)# reduce extra points\n",
    "print(res)\n",
    "i[res>0.1*res.max()]=[0,255,0]\n",
    "cv2.imshow(\"apu\",i)\n",
    "cv2.waitKey()\n",
    "cv2.destroyAllWindows()"
   ]
  },
  {
   "cell_type": "code",
   "execution_count": 17,
   "id": "348889de-b1ba-456d-afe7-807516452954",
   "metadata": {},
   "outputs": [
    {
     "name": "stdout",
     "output_type": "stream",
     "text": [
      "[[-9.9999998e-03 -9.9999998e-03 -9.9999998e-03 ... -5.0625000e-02\n",
      "  -5.0625000e-02 -5.0625000e-02]\n",
      " [ 6.6423034e-03  6.6423034e-03  6.6423034e-03 ...  6.6162109e-02\n",
      "   6.6162109e-02  6.6162109e-02]\n",
      " [ 1.9541778e-02  1.9541778e-02  1.9541778e-02 ...  1.9353272e-01\n",
      "   1.8652344e-01  1.8652344e-01]\n",
      " ...\n",
      " [ 2.8960565e+02  2.8960565e+02  2.8960565e+02 ...  2.8330749e-01\n",
      "   3.6546266e-01  3.6546266e-01]\n",
      " [ 3.2612909e+02  3.2612909e+02  3.2612909e+02 ...  3.1047058e-01\n",
      "   3.7937683e-01  3.7937683e-01]\n",
      " [ 3.2612909e+02  3.2612909e+02  3.2612909e+02 ...  3.1047058e-01\n",
      "   3.7937683e-01  3.7937683e-01]]\n"
     ]
    }
   ],
   "source": [
    "import cv2\n",
    "import numpy as np\n",
    "i=cv2.imread(r\"R:\\getty_517194189_373099.webp\")\n",
    "i=cv2.resize(i,(500,500))\n",
    "g=cv2.cvtColor(i,cv2.COLOR_BGR2GRAY)\n",
    "g=np.float32(g)\n",
    "res=cv2.cornerHarris(g,8,3,0.04)#source,blocksize,kernel size,number of points\n",
    "#By changing the value of the blocksize the number of corner points can be reduced or increased\n",
    "res=cv2.dilate(res,None)# reduce extra points\n",
    "print(res)\n",
    "i[res>0.1*res.max()]=[0,255,0]\n",
    "cv2.imshow(\"apu\",i)\n",
    "cv2.waitKey()\n",
    "cv2.destroyAllWindows()"
   ]
  },
  {
   "cell_type": "code",
   "execution_count": null,
   "id": "27bf9a9f-0a99-4089-8658-019e03afd080",
   "metadata": {},
   "outputs": [],
   "source": []
  },
  {
   "cell_type": "code",
   "execution_count": null,
   "id": "4d5527ab-600f-4590-aa62-c701d8dcf007",
   "metadata": {},
   "outputs": [],
   "source": []
  },
  {
   "cell_type": "code",
   "execution_count": null,
   "id": "61131c22-f8e3-46aa-bcde-f89acca18b79",
   "metadata": {},
   "outputs": [],
   "source": []
  }
 ],
 "metadata": {
  "kernelspec": {
   "display_name": "Python 3 (ipykernel)",
   "language": "python",
   "name": "python3"
  },
  "language_info": {
   "codemirror_mode": {
    "name": "ipython",
    "version": 3
   },
   "file_extension": ".py",
   "mimetype": "text/x-python",
   "name": "python",
   "nbconvert_exporter": "python",
   "pygments_lexer": "ipython3",
   "version": "3.12.0"
  }
 },
 "nbformat": 4,
 "nbformat_minor": 5
}
