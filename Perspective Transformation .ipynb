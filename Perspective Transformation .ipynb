{
 "cells": [
  {
   "cell_type": "code",
   "execution_count": 4,
   "id": "ee2c4edb-d39a-4f72-bbdd-04ca03fe6697",
   "metadata": {},
   "outputs": [],
   "source": [
    "import cv2\n",
    "import numpy as  np\n",
    "img=cv2.imread(r\"R:\\Apu.jpg\")\n",
    "sr1=np.float32([[199,310],[280,310],[196,396],[279,396]])\n",
    "(w,h)=(500,500)\n",
    "dst1=np.float32([[0,0],[w,0],[0,h],[w,h]])\n",
    "mask=cv2.getPerspectiveTransform(sr1,dst1)#source,destination\n",
    "im=cv2.warpPerspective(img,mask,(500,500))#image source,mask,resolution\n",
    "cv2.imshow(\"apu\",im)\n",
    "cv2.waitKey(0)\n",
    "cv2.destroyAllWindows()"
   ]
  },
  {
   "cell_type": "code",
   "execution_count": null,
   "id": "a8dcdf7a-b720-40c1-afa4-5943f65fed9e",
   "metadata": {},
   "outputs": [],
   "source": []
  },
  {
   "cell_type": "code",
   "execution_count": null,
   "id": "13655760-bd12-41e9-99db-55563435a546",
   "metadata": {},
   "outputs": [],
   "source": [
    "#199,310\n",
    "#280,310\n",
    "#196,396\n",
    "#279,396"
   ]
  }
 ],
 "metadata": {
  "kernelspec": {
   "display_name": "Python 3 (ipykernel)",
   "language": "python",
   "name": "python3"
  },
  "language_info": {
   "codemirror_mode": {
    "name": "ipython",
    "version": 3
   },
   "file_extension": ".py",
   "mimetype": "text/x-python",
   "name": "python",
   "nbconvert_exporter": "python",
   "pygments_lexer": "ipython3",
   "version": "3.12.0"
  }
 },
 "nbformat": 4,
 "nbformat_minor": 5
}
