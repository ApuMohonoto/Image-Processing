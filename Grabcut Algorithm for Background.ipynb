{
 "cells": [
  {
   "cell_type": "code",
   "execution_count": null,
   "id": "fbd6d742-0c47-4286-91d1-0bae0f7a020f",
   "metadata": {},
   "outputs": [],
   "source": [
    "import cv2\n",
    "import numpy as np\n",
    "i=cv2.imread(r\"R:\\Apu.jpg\")\n",
    "mask1=np.zeros(i.shape[:2],np.uint8)*255\n",
    "bgmask=np.zeros((1,65),np.float64)*255\n",
    "fgmask=np.zeros((1,65),np.float64)*255\n",
    "r=[122,310,412,561]\n",
    "cv2.grabCut(i,mask1,r,bgmask,fgmask,10,cv2.GC_INIT_WITH_RECT)# 10==number of iteration\n",
    "mask2=np.where((mask1==2)|(mask1==0),0,1).astype(\"uint8\")\n",
    "i=i*mask2[:,:,np.newaxis]\n",
    "cv2.imshow(\"apu\",i)\n",
    "cv2.waitKey(0)\n",
    "cv2.destroyAllWindows()"
   ]
  },
  {
   "cell_type": "code",
   "execution_count": null,
   "id": "98d15e5e-c1da-455b-ac17-b3ca7de78202",
   "metadata": {},
   "outputs": [],
   "source": []
  }
 ],
 "metadata": {
  "kernelspec": {
   "display_name": "Python 3 (ipykernel)",
   "language": "python",
   "name": "python3"
  },
  "language_info": {
   "codemirror_mode": {
    "name": "ipython",
    "version": 3
   },
   "file_extension": ".py",
   "mimetype": "text/x-python",
   "name": "python",
   "nbconvert_exporter": "python",
   "pygments_lexer": "ipython3",
   "version": "3.12.0"
  }
 },
 "nbformat": 4,
 "nbformat_minor": 5
}
