{
 "cells": [
  {
   "cell_type": "code",
   "execution_count": 5,
   "id": "08751773-9250-4e27-b81f-a9a4f00c928d",
   "metadata": {},
   "outputs": [],
   "source": [
    "import cv2\n",
    "import numpy as np\n",
    "img=cv2.imread(r\"R:\\Mobile's Photo\\DCIM\\Camera\\IMG_20240404_111921.jpg\")\n",
    "img1=cv2.resize(img,(400,600))\n",
    "g=cv2.GaussianBlur(img1,(7,7),0)#img,karnelsize,destination\n",
    "m=cv2.medianBlur(img1,3)#img,karnelsize\n",
    "b=cv2.bilateralFilter(img1,9,75,75)#img,sigmacolor,singmaspace\n",
    "h=np.hstack((img1,g,m,b))\n",
    "cv2.imshow(\"apu\",h)\n",
    "cv2.waitKey(0)\n",
    "cv2.destroyAllWindows()\n"
   ]
  },
  {
   "cell_type": "code",
   "execution_count": null,
   "id": "e46e03b0-9ebb-4177-b3e4-6fa01ea62817",
   "metadata": {},
   "outputs": [],
   "source": []
  }
 ],
 "metadata": {
  "kernelspec": {
   "display_name": "Python 3 (ipykernel)",
   "language": "python",
   "name": "python3"
  },
  "language_info": {
   "codemirror_mode": {
    "name": "ipython",
    "version": 3
   },
   "file_extension": ".py",
   "mimetype": "text/x-python",
   "name": "python",
   "nbconvert_exporter": "python",
   "pygments_lexer": "ipython3",
   "version": "3.12.0"
  }
 },
 "nbformat": 4,
 "nbformat_minor": 5
}
