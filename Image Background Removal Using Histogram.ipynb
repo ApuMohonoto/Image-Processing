{
 "cells": [
  {
   "cell_type": "code",
   "execution_count": 27,
   "id": "62ac66ae-b0f4-4774-86b4-ec0f4c8d36e0",
   "metadata": {},
   "outputs": [],
   "source": [
    "import cv2\n",
    "i=cv2.imread(r\"R:\\embassyshootout (1).jpg\")\n",
    "i=cv2.resize(i,(500,500))\n",
    "hsv1=cv2.cvtColor(i,cv2.COLOR_BGR2HSV)\n",
    "i1=cv2.imread(r\"R:\\embassyshootout.jpg\")\n",
    "hsv2=cv2.cvtColor(i1,cv2.COLOR_BGR2HSV)\n",
    "hist=cv2.calcHist([hsv2],[0,1],None,[180,256],[0,180,0,256])#img source,channel,mask\n",
    "mask=cv2.calcBackProject([hsv1],[0,1],hist,[0,180,0,256],1)\n",
    "result=cv2.bitwise_or(i,i,mask=mask)\n",
    "cv2.imshow(\"apu1\",result)\n",
    "cv2.imshow(\"apu\",i)\n",
    "cv2.waitKey(0)\n",
    "cv2.destroyAllWindows()\n",
    "\n"
   ]
  },
  {
   "cell_type": "code",
   "execution_count": 26,
   "id": "8e0f34de-c2c5-44f9-845f-612550fe01ca",
   "metadata": {},
   "outputs": [],
   "source": [
    "import cv2\n",
    "i=cv2.imread(r\"R:\\embassyshootout (1).jpg\")\n",
    "i=cv2.resize(i,(500,500))\n",
    "hsv1=cv2.cvtColor(i,cv2.COLOR_BGR2HSV)\n",
    "i1=cv2.imread(r\"R:\\embassyshootout.jpg\")\n",
    "hsv2=cv2.cvtColor(i1,cv2.COLOR_BGR2HSV)\n",
    "hist=cv2.calcHist([hsv2],[0,1],None,[180,256],[0,180,0,256])#img source,channel,mask\n",
    "mask=cv2.calcBackProject([hsv1],[0,1],hist,[0,180,0,256],1)\n",
    "ker=cv2.getStructuringElement(cv2.MORPH_ELLIPSE,(5,5))\n",
    "mask=cv2.filter2D(mask,-1,ker)\n",
    "_,th=cv2.threshold(mask,200,250,cv2.THRESH_BINARY)\n",
    "mask=cv2.merge((mask,mask,mask))\n",
    "result=cv2.bitwise_or(i,mask)\n",
    "cv2.imshow(\"apu1\",result)\n",
    "cv2.imshow(\"apu\",i)\n",
    "cv2.waitKey(0)\n",
    "cv2.destroyAllWindows()"
   ]
  },
  {
   "cell_type": "code",
   "execution_count": null,
   "id": "e3234fdb-613c-4336-b1bf-9231460d1684",
   "metadata": {},
   "outputs": [],
   "source": []
  }
 ],
 "metadata": {
  "kernelspec": {
   "display_name": "Python 3 (ipykernel)",
   "language": "python",
   "name": "python3"
  },
  "language_info": {
   "codemirror_mode": {
    "name": "ipython",
    "version": 3
   },
   "file_extension": ".py",
   "mimetype": "text/x-python",
   "name": "python",
   "nbconvert_exporter": "python",
   "pygments_lexer": "ipython3",
   "version": "3.12.0"
  }
 },
 "nbformat": 4,
 "nbformat_minor": 5
}
