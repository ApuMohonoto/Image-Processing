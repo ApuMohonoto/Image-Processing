{
 "cells": [
  {
   "cell_type": "code",
   "execution_count": 13,
   "id": "e0837c01-5723-499f-997d-c1b6316a25bd",
   "metadata": {},
   "outputs": [],
   "source": [
    "import cv2\n",
    "img1=cv2.imread(r\"R:\\rohan.JPG\")\n",
    "img1=cv2.resize(img,(350,550))\n",
    "txt=cv2.putText(\n",
    "img=img1,\n",
    "text=\"apu\",\n",
    "org=(50,90),\n",
    "fontFace=cv2.FONT_HERSHEY_DUPLEX,\n",
    "fontScale=5,\n",
    "color=(0,0,255),#BGR\n",
    "thickness=3,\n",
    "lineType=cv2.LINE_8,\n",
    "bottomLeftOrigin=False)\n",
    "cv2.imshow(\"apu\",img1)\n",
    "cv2.waitKey(0)\n",
    "cv2.destroyAllWindows()"
   ]
  },
  {
   "cell_type": "code",
   "execution_count": 14,
   "id": "164ee310-0206-4c43-98b0-52cf1bce4bbf",
   "metadata": {},
   "outputs": [],
   "source": [
    "import cv2\n",
    "img1=cv2.imread(r\"R:\\rohan.JPG\")\n",
    "img1=cv2.resize(img,(350,550))\n",
    "txt=cv2.putText(\n",
    "img=img1,\n",
    "text=\"apu\",\n",
    "org=(50,90),\n",
    "fontFace=cv2.FONT_HERSHEY_DUPLEX,\n",
    "fontScale=5,\n",
    "color=(0,0,255),#BGR\n",
    "thickness=3,\n",
    "lineType=cv2.LINE_8,\n",
    "bottomLeftOrigin=True)\n",
    "cv2.imshow(\"apu\",img1)\n",
    "cv2.waitKey(0)\n",
    "cv2.destroyAllWindows()"
   ]
  },
  {
   "cell_type": "code",
   "execution_count": 16,
   "id": "81504dba-4090-4b12-8184-5077c71e2a85",
   "metadata": {},
   "outputs": [],
   "source": [
    "import cv2\n",
    "img1=cv2.imread(r\"R:\\rohan.JPG\")\n",
    "img1=cv2.resize(img,(350,550))\n",
    "txt=cv2.putText(\n",
    "img=img1,\n",
    "text=\"apu\",\n",
    "org=(50,90),\n",
    "fontFace=cv2.FONT_HERSHEY_DUPLEX,\n",
    "fontScale=5,\n",
    "color=(0,255,0),#BGR\n",
    "thickness=3,\n",
    "lineType=cv2.LINE_8,\n",
    "bottomLeftOrigin=False)\n",
    "txt=cv2.putText(\n",
    "img=img1,\n",
    "text=\"apu\",\n",
    "org=(50,90),\n",
    "fontFace=cv2.FONT_HERSHEY_DUPLEX,\n",
    "fontScale=5,\n",
    "color=(0,0,255),#BGR\n",
    "thickness=3,\n",
    "lineType=cv2.LINE_8,\n",
    "bottomLeftOrigin=True)\n",
    "cv2.imshow(\"apu\",img1)\n",
    "cv2.waitKey(0)\n",
    "cv2.destroyAllWindows()"
   ]
  },
  {
   "cell_type": "code",
   "execution_count": null,
   "id": "0309aa5b-eb3d-403e-97a0-887a0ceb9856",
   "metadata": {},
   "outputs": [],
   "source": []
  }
 ],
 "metadata": {
  "kernelspec": {
   "display_name": "Python 3 (ipykernel)",
   "language": "python",
   "name": "python3"
  },
  "language_info": {
   "codemirror_mode": {
    "name": "ipython",
    "version": 3
   },
   "file_extension": ".py",
   "mimetype": "text/x-python",
   "name": "python",
   "nbconvert_exporter": "python",
   "pygments_lexer": "ipython3",
   "version": "3.12.0"
  }
 },
 "nbformat": 4,
 "nbformat_minor": 5
}
