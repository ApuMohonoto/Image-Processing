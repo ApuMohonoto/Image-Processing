{
 "cells": [
  {
   "cell_type": "code",
   "execution_count": 9,
   "id": "8c2cf18c-e025-4b5e-923b-f29e88187e08",
   "metadata": {},
   "outputs": [],
   "source": [
    "import cv2\n",
    "camera=cv2.VideoCapture(0)\n",
    "while True:\n",
    "    r,frame=camera.read()\n",
    "    if r==True:\n",
    "        frame=cv2.resize(frame,(400,500))\n",
    "        cv2.imshow(\"apu\",frame)\n",
    "        if cv2.waitKey(25) & 0xff==ord(\"m\"):\n",
    "            break\n",
    "    else:\n",
    "        break\n",
    "camera.release\n",
    "cv2.destroyAllWindows()\n",
    "\n",
    "        "
   ]
  },
  {
   "cell_type": "code",
   "execution_count": null,
   "id": "36171c6d-b2b1-410b-a402-a5a7fb852298",
   "metadata": {},
   "outputs": [],
   "source": []
  }
 ],
 "metadata": {
  "kernelspec": {
   "display_name": "Python 3 (ipykernel)",
   "language": "python",
   "name": "python3"
  },
  "language_info": {
   "codemirror_mode": {
    "name": "ipython",
    "version": 3
   },
   "file_extension": ".py",
   "mimetype": "text/x-python",
   "name": "python",
   "nbconvert_exporter": "python",
   "pygments_lexer": "ipython3",
   "version": "3.12.0"
  }
 },
 "nbformat": 4,
 "nbformat_minor": 5
}
