{
 "cells": [
  {
   "cell_type": "code",
   "execution_count": 2,
   "id": "61ffcdad-26de-4147-a6fc-3da7302e19a2",
   "metadata": {},
   "outputs": [],
   "source": [
    "import cv2\n",
    "video=cv2.VideoCapture(r\"R:\\Mobile's Photo\\DCIM\\Camera\\VID_20230127_150720.mp4\")\n",
    "video1=cv2.createBackgroundSubtractorMOG2()\n",
    "while True:\n",
    "    r,frame=video.read()\n",
    "    if r==True:\n",
    "        frame=cv2.resize(frame,(500,700))\n",
    "        video2=video1.apply(frame)\n",
    "        cv2.imshow(\"apu\",video2)\n",
    "        if cv2.waitKey(25) & 0xff==ord(\"r\"):\n",
    "            break\n",
    "    else:\n",
    "        break\n",
    "video.release()\n",
    "cv2.destroyAllWindows()\n",
    "    \n",
    "    \n",
    "    "
   ]
  },
  {
   "cell_type": "code",
   "execution_count": null,
   "id": "86ea9793-3135-472e-a5f2-02225ab02f98",
   "metadata": {},
   "outputs": [],
   "source": []
  },
  {
   "cell_type": "raw",
   "id": "b3c0d756-d9bd-4575-89a0-22adadd67025",
   "metadata": {},
   "source": []
  }
 ],
 "metadata": {
  "kernelspec": {
   "display_name": "Python 3 (ipykernel)",
   "language": "python",
   "name": "python3"
  },
  "language_info": {
   "codemirror_mode": {
    "name": "ipython",
    "version": 3
   },
   "file_extension": ".py",
   "mimetype": "text/x-python",
   "name": "python",
   "nbconvert_exporter": "python",
   "pygments_lexer": "ipython3",
   "version": "3.12.0"
  }
 },
 "nbformat": 4,
 "nbformat_minor": 5
}
