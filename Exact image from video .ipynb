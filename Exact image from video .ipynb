{
 "cells": [
  {
   "cell_type": "code",
   "execution_count": 2,
   "id": "b9df45a9-e539-499a-b8d6-f9393dc84792",
   "metadata": {},
   "outputs": [],
   "source": [
    "import cv2\n",
    "video=cv2.VideoCapture(r\"R:\\Mobile's Photo\\DCIM\\Camera\\VID_20230127_150720.mp4\")\n",
    "c=0\n",
    "while True:\n",
    "    r,frame=video.read()\n",
    "    if r==True:\n",
    "        frame=cv2.resize(frame,(500,500))\n",
    "        filename=\"R://image//apu\"+str(c)+\".png\"\n",
    "        cv2.imwrite(filename,frame)\n",
    "        cv2.imshow(\"apu\",frame)\n",
    "        c=c+1\n",
    "        if cv2.waitKey(25) & 0xff==ord(\"a\"):\n",
    "            break\n",
    "    else:\n",
    "        break\n",
    "video.release()\n",
    "cv2.destroyAllWindows()"
   ]
  },
  {
   "cell_type": "code",
   "execution_count": null,
   "id": "8bf2acf1-8da9-4dda-baea-b01551ba656b",
   "metadata": {},
   "outputs": [],
   "source": []
  }
 ],
 "metadata": {
  "kernelspec": {
   "display_name": "Python 3 (ipykernel)",
   "language": "python",
   "name": "python3"
  },
  "language_info": {
   "codemirror_mode": {
    "name": "ipython",
    "version": 3
   },
   "file_extension": ".py",
   "mimetype": "text/x-python",
   "name": "python",
   "nbconvert_exporter": "python",
   "pygments_lexer": "ipython3",
   "version": "3.12.0"
  }
 },
 "nbformat": 4,
 "nbformat_minor": 5
}
