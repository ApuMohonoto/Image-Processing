{
 "cells": [
  {
   "cell_type": "code",
   "execution_count": 9,
   "id": "42fe5d2b-6ca9-4707-8e7b-31d7c2965b4a",
   "metadata": {},
   "outputs": [],
   "source": [
    "import cv2\n",
    "video=cv2.VideoCapture(r\"R:\\Mobile's Photo\\DCIM\\Camera\\VID_20240404_131338.mp4\")\n",
    "while video.isOpened():\n",
    "    r,frame=video.read()\n",
    "    if r== True:\n",
    "        frame=cv2.resize(frame,(300,400))\n",
    "        cv2.imshow(\"apu\",frame)\n",
    "        if cv2.waitKey(25) & 0xff==ord(\"p\"): #order=ord :means to instruct the order command\n",
    "            break\n",
    "    else:\n",
    "        break\n",
    "video.release()\n",
    "cv2.destroyAllWindows()"
   ]
  },
  {
   "cell_type": "code",
   "execution_count": null,
   "id": "debc1745-7ce8-4989-8842-b51d85d50cec",
   "metadata": {},
   "outputs": [],
   "source": []
  },
  {
   "cell_type": "code",
   "execution_count": null,
   "id": "79cf8598-f03e-4361-b5fd-8c140091e413",
   "metadata": {},
   "outputs": [],
   "source": []
  }
 ],
 "metadata": {
  "kernelspec": {
   "display_name": "Python 3 (ipykernel)",
   "language": "python",
   "name": "python3"
  },
  "language_info": {
   "codemirror_mode": {
    "name": "ipython",
    "version": 3
   },
   "file_extension": ".py",
   "mimetype": "text/x-python",
   "name": "python",
   "nbconvert_exporter": "python",
   "pygments_lexer": "ipython3",
   "version": "3.12.0"
  }
 },
 "nbformat": 4,
 "nbformat_minor": 5
}
