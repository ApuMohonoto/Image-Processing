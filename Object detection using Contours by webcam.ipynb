{
 "cells": [
  {
   "cell_type": "code",
   "execution_count": 2,
   "id": "39ab924f-04e2-4988-bdd8-39499fb2f427",
   "metadata": {},
   "outputs": [],
   "source": [
    "import cv2\n",
    "import numpy as np\n",
    "\n",
    "def apu(x):\n",
    "    pass\n",
    "cv2.namedWindow(\"rohan\")\n",
    "cv2.createTrackbar(\"th\",\"rohan\",0,255,apu)  \n",
    "cv2.createTrackbar(\"lb\",\"rohan\",0,255,apu) \n",
    "cv2.createTrackbar(\"lg\",\"rohan\",0,255,apu) \n",
    "cv2.createTrackbar(\"lr\",\"rohan\",0,255,apu)\n",
    "cv2.createTrackbar(\"hb\",\"rohan\",255,255,apu) \n",
    "cv2.createTrackbar(\"hg\",\"rohan\",255,255,apu) \n",
    "cv2.createTrackbar(\"hr\",\"rohan\",255,255,apu)\n",
    "\n",
    "cap=cv2.VideoCapture(0)\n",
    "while cap.isOpened():\n",
    "    r,frame=cap.read() \n",
    "    frame=cv2.resize(frame,(300,300))\n",
    "    if r==True:\n",
    "        frame=cv2.flip(frame,1)\n",
    "        hsv=cv2.cvtColor(frame,cv2.COLOR_BGR2HSV)\n",
    "        th=cv2.getTrackbarPos(\"th\",\"rohan\")\n",
    "        lb=cv2.getTrackbarPos(\"lb\",\"rohan\")\n",
    "        lg=cv2.getTrackbarPos(\"lg\",\"rohan\")\n",
    "        lr=cv2.getTrackbarPos(\"lr\",\"rohan\")\n",
    "        hb=cv2.getTrackbarPos(\"hb\",\"rohan\")\n",
    "        hg=cv2.getTrackbarPos(\"hg\",\"rohan\")\n",
    "        hr=cv2.getTrackbarPos(\"hr\",\"rohan\")\n",
    "       \n",
    "\n",
    "       \n",
    "\n",
    "        lower=np.array([[lb,lg,lr]])\n",
    "        higher=np.array([hb,hg,hr])\n",
    "        m=cv2.inRange(hsv,lower,higher)# for mask\n",
    "        result=cv2.bitwise_and(frame,frame,mask=m)\n",
    "        _not=cv2.bitwise_not(result)\n",
    "        _,thr=cv2.threshold(m,th,255,cv2.THRESH_BINARY)\n",
    "        con,h=cv2.findContours(thr,cv2.RETR_TREE,cv2.CHAIN_APPROX_SIMPLE)\n",
    "        cv2.drawContours(frame,con,-4,(255,0,0),2)\n",
    "        \n",
    "        cv2.imshow(\"MASK\",m)\n",
    "        cv2.imshow(\"RESULT\",result)\n",
    "        cv2.imshow(\"VIDEO\",frame)\n",
    "        cv2.imshow(\"THRESHOLD\",th)\n",
    "        if cv2.waitKey(25) & 0xff==ord(\"a\"):\n",
    "            break\n",
    "         \n",
    "    else:\n",
    "        break\n",
    "cv2.destroyAllWindows()        "
   ]
  },
  {
   "cell_type": "code",
   "execution_count": null,
   "id": "c811f50d-834c-4733-ade2-97ae286e6af4",
   "metadata": {},
   "outputs": [],
   "source": []
  },
  {
   "cell_type": "code",
   "execution_count": null,
   "id": "53808d19-77fc-4e2a-bef7-b9eec9b926da",
   "metadata": {},
   "outputs": [],
   "source": []
  },
  {
   "cell_type": "code",
   "execution_count": null,
   "id": "441b07a1-2d20-42c5-a622-7325b9ca7540",
   "metadata": {},
   "outputs": [],
   "source": []
  },
  {
   "cell_type": "code",
   "execution_count": null,
   "id": "04589d87-54b2-4524-956c-18e1a4984cae",
   "metadata": {},
   "outputs": [],
   "source": []
  }
 ],
 "metadata": {
  "kernelspec": {
   "display_name": "Python 3 (ipykernel)",
   "language": "python",
   "name": "python3"
  },
  "language_info": {
   "codemirror_mode": {
    "name": "ipython",
    "version": 3
   },
   "file_extension": ".py",
   "mimetype": "text/x-python",
   "name": "python",
   "nbconvert_exporter": "python",
   "pygments_lexer": "ipython3",
   "version": "3.12.0"
  }
 },
 "nbformat": 4,
 "nbformat_minor": 5
}
