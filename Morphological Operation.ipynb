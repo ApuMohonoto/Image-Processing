{
 "cells": [
  {
   "cell_type": "code",
   "execution_count": 11,
   "id": "a9ad7533-662e-46e1-b098-8ebbbe39a730",
   "metadata": {},
   "outputs": [
    {
     "ename": "AttributeError",
     "evalue": "module 'cv2' has no attribute 'WaitKey'",
     "output_type": "error",
     "traceback": [
      "\u001b[1;31m---------------------------------------------------------------------------\u001b[0m",
      "\u001b[1;31mAttributeError\u001b[0m                            Traceback (most recent call last)",
      "Cell \u001b[1;32mIn[11], line 9\u001b[0m\n\u001b[0;32m      7\u001b[0m er\u001b[38;5;241m=\u001b[39mcv2\u001b[38;5;241m.\u001b[39merode(i,n,iterations\u001b[38;5;241m=\u001b[39m\u001b[38;5;241m1\u001b[39m) \u001b[38;5;66;03m#source,kernel,iteration\u001b[39;00m\n\u001b[0;32m      8\u001b[0m i\u001b[38;5;241m=\u001b[39mcv2\u001b[38;5;241m.\u001b[39mimshow(\u001b[38;5;124m\"\u001b[39m\u001b[38;5;124mapu\u001b[39m\u001b[38;5;124m\"\u001b[39m,er)\n\u001b[1;32m----> 9\u001b[0m \u001b[43mcv2\u001b[49m\u001b[38;5;241;43m.\u001b[39;49m\u001b[43mWaitKey\u001b[49m(\u001b[38;5;241m0\u001b[39m)\n\u001b[0;32m     10\u001b[0m cv2\u001b[38;5;241m.\u001b[39mdestroyAllWindows()\n",
      "\u001b[1;31mAttributeError\u001b[0m: module 'cv2' has no attribute 'WaitKey'"
     ]
    }
   ],
   "source": [
    "#erotion\n",
    "import cv2\n",
    "import numpy as np\n",
    "img=cv2.imread(r\"R:\\a-Image-with-a-misplaced-dot-b-Binary-image-c-Misplaced-dot-removed_Q320.jpg\")\n",
    "i=cv2.resize(img,(300,400))\n",
    "n=np.ones((10,10),np.int8) #shape,datatype\n",
    "er=cv2.erode(i,n,iterations=1) #source,kernel,iteration\n",
    "i=cv2.imshow(\"apu\",er)\n",
    "cv2.WaitKey(0)\n",
    "cv2.destroyAllWindows()\n"
   ]
  },
  {
   "cell_type": "code",
   "execution_count": 10,
   "id": "cbf0542c-6ff7-448d-81ce-f9b9465f91b7",
   "metadata": {},
   "outputs": [],
   "source": [
    "#dilate\n",
    "import cv2\n",
    "import numpy as np\n",
    "img=cv2.imread(r\"R:\\binary-cards-black_back-no-display_numbers-yes-paper_size-a4.png\")\n",
    "n=np.ones((10,10),np.int8)\n",
    "m=cv2.dilate(img,n,iterations=1)\n",
    "i=cv2.imshow(\"apu\",m)\n",
    "cv2.waitKey(0)\n",
    "cv2.destroyAllWindows()          \n",
    "\n"
   ]
  },
  {
   "cell_type": "code",
   "execution_count": 27,
   "id": "c5dda4dc-e9df-4690-96e6-225ca1ca2081",
   "metadata": {},
   "outputs": [],
   "source": [
    "# opening \n",
    "import cv2\n",
    "import numpy as np\n",
    "read=cv2.imread(r\"R:\\download.png\")\n",
    "i=np.ones((20,20),np.int8)\n",
    "n=cv2.morphologyEx(read,cv2.MORPH_OPEN,i,iterations=1)\n",
    "h=np.hstack((read,n))\n",
    "m=cv2.imshow(\"apu\",h)\n",
    "cv2.waitKey(0)\n",
    "cv2.destroyAllWindows()  \n"
   ]
  },
  {
   "cell_type": "code",
   "execution_count": 26,
   "id": "328613bf-85cf-4d44-a80f-1f49a6b9bd84",
   "metadata": {},
   "outputs": [],
   "source": [
    "#closing\n",
    "import cv2\n",
    "import numpy as np\n",
    "read=cv2.imread(r\"R:\\download.png\")\n",
    "i=np.ones((20,20),np.int8)\n",
    "n=cv2.morphologyEx(read,cv2.MORPH_CLOSE,i,iterations=1)\n",
    "h=np.hstack((read,n))\n",
    "m=cv2.imshow(\"apu\",h)\n",
    "cv2.waitKey(0)\n",
    "cv2.destroyAllWindows()  "
   ]
  },
  {
   "cell_type": "code",
   "execution_count": 29,
   "id": "8b276a45-b1eb-4c95-b47c-1a6ee8f901e6",
   "metadata": {},
   "outputs": [],
   "source": [
    "#Gradient\n",
    "import cv2\n",
    "import numpy as np\n",
    "read=cv2.imread(r\"R:\\Erosion-operation-on-a-binary-image.png\")\n",
    "i=np.ones((20,20),np.int8)\n",
    "n=cv2.morphologyEx(read,cv2.MORPH_GRADIENT,i,iterations=1)\n",
    "h=np.hstack((read,n))\n",
    "m=cv2.imshow(\"apu\",h)\n",
    "cv2.waitKey(0)\n",
    "cv2.destroyAllWindows()  "
   ]
  },
  {
   "cell_type": "code",
   "execution_count": 30,
   "id": "7db6e155-d947-4490-84d1-b705cd1583d7",
   "metadata": {},
   "outputs": [],
   "source": [
    "#top hat/white hat= hardness part remove softness part remain same\n",
    "import cv2\n",
    "import numpy as np\n",
    "read=cv2.imread(r\"R:\\Erosion-operation-on-a-binary-image.png\")\n",
    "i=np.ones((20,20),np.int8)\n",
    "n=cv2.morphologyEx(read,cv2.MORPH_TOPHAT,i,iterations=1)\n",
    "h=np.hstack((read,n))\n",
    "m=cv2.imshow(\"apu\",h)\n",
    "cv2.waitKey(0)\n",
    "cv2.destroyAllWindows()  "
   ]
  },
  {
   "cell_type": "code",
   "execution_count": 33,
   "id": "54c2220e-d585-4350-9bc8-28bee0025b11",
   "metadata": {},
   "outputs": [],
   "source": [
    "#Black Head\n",
    "import cv2\n",
    "import numpy as np\n",
    "read=cv2.imread(r\"R:\\Erosion-operation-on-a-binary-image.png\")\n",
    "i=np.ones((20,20),np.int8)\n",
    "n=cv2.morphologyEx(read,cv2.MORPH_BLACKHAT,i,iterations=1)\n",
    "h=np.hstack((read,n))\n",
    "m=cv2.imshow(\"apu\",h)\n",
    "cv2.waitKey(0)\n",
    "cv2.destroyAllWindows()  "
   ]
  },
  {
   "cell_type": "code",
   "execution_count": null,
   "id": "0d9823af-3b34-4f23-abee-ace936fbe258",
   "metadata": {},
   "outputs": [],
   "source": []
  }
 ],
 "metadata": {
  "kernelspec": {
   "display_name": "Python 3 (ipykernel)",
   "language": "python",
   "name": "python3"
  },
  "language_info": {
   "codemirror_mode": {
    "name": "ipython",
    "version": 3
   },
   "file_extension": ".py",
   "mimetype": "text/x-python",
   "name": "python",
   "nbconvert_exporter": "python",
   "pygments_lexer": "ipython3",
   "version": "3.12.0"
  }
 },
 "nbformat": 4,
 "nbformat_minor": 5
}
