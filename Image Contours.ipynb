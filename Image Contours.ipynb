{
 "cells": [
  {
   "cell_type": "code",
   "execution_count": 4,
   "id": "0509315b-ce6b-46c6-8ff8-eee971e797ec",
   "metadata": {},
   "outputs": [],
   "source": [
    "import cv2\n",
    "i1=cv2.imread(r\"R:\\crome.png\")\n",
    "i=cv2.resize(i1,(500,500))\n",
    "gray=cv2.cvtColor(i,cv2.COLOR_BGR2GRAY)\n",
    "_,thr=cv2.threshold(gray,200,250,cv2.THRESH_BINARY)\n",
    "c,h=cv2.findContours(thr,cv2.RETR_TREE,cv2.CHAIN_APPROX_SIMPLE)\n",
    "draw=cv2.drawContours(i,c,-1,(255,0,0),2)\n",
    "\n",
    "cv2.imshow(\"apu1\",gray)\n",
    "cv2.imshow(\"apu2\",draw)\n",
    "cv2.waitKey(0)\n",
    "cv2.destroyAllWindows()"
   ]
  },
  {
   "cell_type": "code",
   "execution_count": null,
   "id": "47eedb52-ecae-486e-9fde-b6250c1e21eb",
   "metadata": {},
   "outputs": [],
   "source": []
  },
  {
   "cell_type": "code",
   "execution_count": null,
   "id": "201cd9ef-1d64-44db-8b02-cc3b6b0900d2",
   "metadata": {},
   "outputs": [],
   "source": []
  },
  {
   "cell_type": "code",
   "execution_count": null,
   "id": "9472ceb9-da3c-45a6-ade5-daf874ebf47f",
   "metadata": {},
   "outputs": [],
   "source": []
  }
 ],
 "metadata": {
  "kernelspec": {
   "display_name": "Python 3 (ipykernel)",
   "language": "python",
   "name": "python3"
  },
  "language_info": {
   "codemirror_mode": {
    "name": "ipython",
    "version": 3
   },
   "file_extension": ".py",
   "mimetype": "text/x-python",
   "name": "python",
   "nbconvert_exporter": "python",
   "pygments_lexer": "ipython3",
   "version": "3.12.0"
  }
 },
 "nbformat": 4,
 "nbformat_minor": 5
}
